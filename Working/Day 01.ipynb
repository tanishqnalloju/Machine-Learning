{
 "cells": [
  {
   "cell_type": "code",
   "execution_count": 1,
   "metadata": {},
   "outputs": [],
   "source": [
    "import pandas as pd\n",
    "import numpy as np\n",
    "import matplotlib.pyplot as plt\n",
    "%matplotlib inline"
   ]
  },
  {
   "cell_type": "code",
   "execution_count": 2,
   "metadata": {},
   "outputs": [],
   "source": [
    "# to know all the functions of a library use dir(package) ex: dir(pd)"
   ]
  },
  {
   "cell_type": "markdown",
   "metadata": {},
   "source": [
    "# Dataframe format\n",
    "# Combination of rows and columns - By Default columns are variables, rows are observations\n",
    "# Variables - Define unique features _ Price, Age, Km, Automatic/Manual\n",
    "# Observations - Value related to Features"
   ]
  },
  {
   "cell_type": "code",
   "execution_count": 2,
   "metadata": {},
   "outputs": [],
   "source": [
    "usedcarprices=pd.read_csv(\"/Users/Yesh/Desktop/ML_day1/1/Datasets BITS/usedcarsales.csv\")"
   ]
  },
  {
   "cell_type": "code",
   "execution_count": 1,
   "metadata": {},
   "outputs": [
    {
     "ename": "NameError",
     "evalue": "name 'usedcarprices' is not defined",
     "output_type": "error",
     "traceback": [
      "\u001b[1;31m---------------------------------------------------------------------------\u001b[0m",
      "\u001b[1;31mNameError\u001b[0m                                 Traceback (most recent call last)",
      "\u001b[1;32m<ipython-input-1-703ddece084f>\u001b[0m in \u001b[0;36m<module>\u001b[1;34m()\u001b[0m\n\u001b[1;32m----> 1\u001b[1;33m \u001b[0musedcarprices\u001b[0m\u001b[1;33m.\u001b[0m\u001b[0mhead\u001b[0m\u001b[1;33m(\u001b[0m\u001b[1;33m)\u001b[0m \u001b[1;31m#first five observations of datafrane, give no. of entires to show in the argument usedcarprices.head(10)\u001b[0m\u001b[1;33m\u001b[0m\u001b[0m\n\u001b[0m",
      "\u001b[1;31mNameError\u001b[0m: name 'usedcarprices' is not defined"
     ]
    }
   ],
   "source": [
    "usedcarprices.head() #first five observations of datafrane, give no. of entires to show in the argument usedcarprices.head(10)"
   ]
  },
  {
   "cell_type": "code",
   "execution_count": 12,
   "metadata": {},
   "outputs": [
    {
     "data": {
      "text/html": [
       "<div>\n",
       "<style scoped>\n",
       "    .dataframe tbody tr th:only-of-type {\n",
       "        vertical-align: middle;\n",
       "    }\n",
       "\n",
       "    .dataframe tbody tr th {\n",
       "        vertical-align: top;\n",
       "    }\n",
       "\n",
       "    .dataframe thead th {\n",
       "        text-align: right;\n",
       "    }\n",
       "</style>\n",
       "<table border=\"1\" class=\"dataframe\">\n",
       "  <thead>\n",
       "    <tr style=\"text-align: right;\">\n",
       "      <th></th>\n",
       "      <th>Unnamed: 0</th>\n",
       "      <th>Price</th>\n",
       "      <th>Age</th>\n",
       "      <th>KM</th>\n",
       "      <th>FuelType</th>\n",
       "      <th>HP</th>\n",
       "      <th>MetColor</th>\n",
       "      <th>Automatic</th>\n",
       "      <th>CC</th>\n",
       "      <th>Doors</th>\n",
       "      <th>Weight</th>\n",
       "      <th>AutoType</th>\n",
       "      <th>MetColorType</th>\n",
       "    </tr>\n",
       "  </thead>\n",
       "  <tbody>\n",
       "    <tr>\n",
       "      <th>1431</th>\n",
       "      <td>1432</td>\n",
       "      <td>7500</td>\n",
       "      <td>69</td>\n",
       "      <td>20544</td>\n",
       "      <td>Petrol</td>\n",
       "      <td>86</td>\n",
       "      <td>1</td>\n",
       "      <td>0</td>\n",
       "      <td>1300</td>\n",
       "      <td>3</td>\n",
       "      <td>1025</td>\n",
       "      <td>Manual</td>\n",
       "      <td>Metcolor</td>\n",
       "    </tr>\n",
       "    <tr>\n",
       "      <th>1432</th>\n",
       "      <td>1433</td>\n",
       "      <td>10845</td>\n",
       "      <td>72</td>\n",
       "      <td>19000</td>\n",
       "      <td>Petrol</td>\n",
       "      <td>86</td>\n",
       "      <td>0</td>\n",
       "      <td>0</td>\n",
       "      <td>1300</td>\n",
       "      <td>3</td>\n",
       "      <td>1015</td>\n",
       "      <td>Manual</td>\n",
       "      <td>NonMetcolor</td>\n",
       "    </tr>\n",
       "    <tr>\n",
       "      <th>1433</th>\n",
       "      <td>1434</td>\n",
       "      <td>8500</td>\n",
       "      <td>71</td>\n",
       "      <td>17016</td>\n",
       "      <td>Petrol</td>\n",
       "      <td>86</td>\n",
       "      <td>0</td>\n",
       "      <td>0</td>\n",
       "      <td>1300</td>\n",
       "      <td>3</td>\n",
       "      <td>1015</td>\n",
       "      <td>Manual</td>\n",
       "      <td>NonMetcolor</td>\n",
       "    </tr>\n",
       "    <tr>\n",
       "      <th>1434</th>\n",
       "      <td>1435</td>\n",
       "      <td>7250</td>\n",
       "      <td>70</td>\n",
       "      <td>16916</td>\n",
       "      <td>Petrol</td>\n",
       "      <td>86</td>\n",
       "      <td>1</td>\n",
       "      <td>0</td>\n",
       "      <td>1300</td>\n",
       "      <td>3</td>\n",
       "      <td>1015</td>\n",
       "      <td>Manual</td>\n",
       "      <td>Metcolor</td>\n",
       "    </tr>\n",
       "    <tr>\n",
       "      <th>1435</th>\n",
       "      <td>1436</td>\n",
       "      <td>6950</td>\n",
       "      <td>76</td>\n",
       "      <td>1</td>\n",
       "      <td>Petrol</td>\n",
       "      <td>110</td>\n",
       "      <td>0</td>\n",
       "      <td>0</td>\n",
       "      <td>1600</td>\n",
       "      <td>5</td>\n",
       "      <td>1114</td>\n",
       "      <td>Manual</td>\n",
       "      <td>NonMetcolor</td>\n",
       "    </tr>\n",
       "  </tbody>\n",
       "</table>\n",
       "</div>"
      ],
      "text/plain": [
       "      Unnamed: 0  Price  Age     KM FuelType   HP  MetColor  Automatic    CC  \\\n",
       "1431        1432   7500   69  20544   Petrol   86         1          0  1300   \n",
       "1432        1433  10845   72  19000   Petrol   86         0          0  1300   \n",
       "1433        1434   8500   71  17016   Petrol   86         0          0  1300   \n",
       "1434        1435   7250   70  16916   Petrol   86         1          0  1300   \n",
       "1435        1436   6950   76      1   Petrol  110         0          0  1600   \n",
       "\n",
       "      Doors  Weight AutoType MetColorType  \n",
       "1431      3    1025   Manual     Metcolor  \n",
       "1432      3    1015   Manual  NonMetcolor  \n",
       "1433      3    1015   Manual  NonMetcolor  \n",
       "1434      3    1015   Manual     Metcolor  \n",
       "1435      5    1114   Manual  NonMetcolor  "
      ]
     },
     "execution_count": 12,
     "metadata": {},
     "output_type": "execute_result"
    }
   ],
   "source": [
    "usedcarprices.tail() #last five observations"
   ]
  },
  {
   "cell_type": "code",
   "execution_count": 13,
   "metadata": {},
   "outputs": [
    {
     "data": {
      "text/plain": [
       "Unnamed: 0       int64\n",
       "Price            int64\n",
       "Age              int64\n",
       "KM               int64\n",
       "FuelType        object\n",
       "HP               int64\n",
       "MetColor         int64\n",
       "Automatic        int64\n",
       "CC               int64\n",
       "Doors            int64\n",
       "Weight           int64\n",
       "AutoType        object\n",
       "MetColorType    object\n",
       "dtype: object"
      ]
     },
     "execution_count": 13,
     "metadata": {},
     "output_type": "execute_result"
    }
   ],
   "source": [
    "usedcarprices.dtypes #Specifies the data type of each variable"
   ]
  },
  {
   "cell_type": "code",
   "execution_count": 3,
   "metadata": {},
   "outputs": [
    {
     "data": {
      "text/plain": [
       "(1436, 13)"
      ]
     },
     "execution_count": 3,
     "metadata": {},
     "output_type": "execute_result"
    }
   ],
   "source": [
    "usedcarprices.shape #No of rows and columns"
   ]
  },
  {
   "cell_type": "code",
   "execution_count": 5,
   "metadata": {},
   "outputs": [
    {
     "data": {
      "text/plain": [
       "MetColorType    0\n",
       "AutoType        0\n",
       "Weight          0\n",
       "Doors           0\n",
       "CC              0\n",
       "Automatic       0\n",
       "MetColor        0\n",
       "HP              0\n",
       "FuelType        0\n",
       "KM              0\n",
       "Age             0\n",
       "Price           0\n",
       "Unnamed: 0      0\n",
       "dtype: int64"
      ]
     },
     "execution_count": 5,
     "metadata": {},
     "output_type": "execute_result"
    }
   ],
   "source": [
    "(usedcarprices.isnull().sum().sort_values(ascending=False))"
   ]
  },
  {
   "cell_type": "code",
   "execution_count": 12,
   "metadata": {},
   "outputs": [
    {
     "data": {
      "text/html": [
       "<div>\n",
       "<style scoped>\n",
       "    .dataframe tbody tr th:only-of-type {\n",
       "        vertical-align: middle;\n",
       "    }\n",
       "\n",
       "    .dataframe tbody tr th {\n",
       "        vertical-align: top;\n",
       "    }\n",
       "\n",
       "    .dataframe thead th {\n",
       "        text-align: right;\n",
       "    }\n",
       "</style>\n",
       "<table border=\"1\" class=\"dataframe\">\n",
       "  <thead>\n",
       "    <tr style=\"text-align: right;\">\n",
       "      <th></th>\n",
       "      <th>Unnamed: 0</th>\n",
       "      <th>Price</th>\n",
       "      <th>Age</th>\n",
       "      <th>KM</th>\n",
       "      <th>HP</th>\n",
       "      <th>MetColor</th>\n",
       "      <th>Automatic</th>\n",
       "      <th>CC</th>\n",
       "      <th>Doors</th>\n",
       "      <th>Weight</th>\n",
       "    </tr>\n",
       "  </thead>\n",
       "  <tbody>\n",
       "    <tr>\n",
       "      <th>count</th>\n",
       "      <td>1436.000000</td>\n",
       "      <td>1436.000000</td>\n",
       "      <td>1436.000000</td>\n",
       "      <td>1436.000000</td>\n",
       "      <td>1436.000000</td>\n",
       "      <td>1436.000000</td>\n",
       "      <td>1436.000000</td>\n",
       "      <td>1436.000000</td>\n",
       "      <td>1436.000000</td>\n",
       "      <td>1436.00000</td>\n",
       "    </tr>\n",
       "    <tr>\n",
       "      <th>mean</th>\n",
       "      <td>718.500000</td>\n",
       "      <td>10730.824513</td>\n",
       "      <td>55.947075</td>\n",
       "      <td>68533.259749</td>\n",
       "      <td>101.502089</td>\n",
       "      <td>0.674791</td>\n",
       "      <td>0.055710</td>\n",
       "      <td>1566.827994</td>\n",
       "      <td>4.033426</td>\n",
       "      <td>1072.45961</td>\n",
       "    </tr>\n",
       "    <tr>\n",
       "      <th>std</th>\n",
       "      <td>414.681806</td>\n",
       "      <td>3626.964585</td>\n",
       "      <td>18.599988</td>\n",
       "      <td>37506.448872</td>\n",
       "      <td>14.981080</td>\n",
       "      <td>0.468616</td>\n",
       "      <td>0.229441</td>\n",
       "      <td>187.182436</td>\n",
       "      <td>0.952677</td>\n",
       "      <td>52.64112</td>\n",
       "    </tr>\n",
       "    <tr>\n",
       "      <th>min</th>\n",
       "      <td>1.000000</td>\n",
       "      <td>4350.000000</td>\n",
       "      <td>1.000000</td>\n",
       "      <td>1.000000</td>\n",
       "      <td>69.000000</td>\n",
       "      <td>0.000000</td>\n",
       "      <td>0.000000</td>\n",
       "      <td>1300.000000</td>\n",
       "      <td>2.000000</td>\n",
       "      <td>1000.00000</td>\n",
       "    </tr>\n",
       "    <tr>\n",
       "      <th>25%</th>\n",
       "      <td>359.750000</td>\n",
       "      <td>8450.000000</td>\n",
       "      <td>44.000000</td>\n",
       "      <td>43000.000000</td>\n",
       "      <td>90.000000</td>\n",
       "      <td>0.000000</td>\n",
       "      <td>0.000000</td>\n",
       "      <td>1400.000000</td>\n",
       "      <td>3.000000</td>\n",
       "      <td>1040.00000</td>\n",
       "    </tr>\n",
       "    <tr>\n",
       "      <th>50%</th>\n",
       "      <td>718.500000</td>\n",
       "      <td>9900.000000</td>\n",
       "      <td>61.000000</td>\n",
       "      <td>63389.500000</td>\n",
       "      <td>110.000000</td>\n",
       "      <td>1.000000</td>\n",
       "      <td>0.000000</td>\n",
       "      <td>1600.000000</td>\n",
       "      <td>4.000000</td>\n",
       "      <td>1070.00000</td>\n",
       "    </tr>\n",
       "    <tr>\n",
       "      <th>75%</th>\n",
       "      <td>1077.250000</td>\n",
       "      <td>11950.000000</td>\n",
       "      <td>70.000000</td>\n",
       "      <td>87020.750000</td>\n",
       "      <td>110.000000</td>\n",
       "      <td>1.000000</td>\n",
       "      <td>0.000000</td>\n",
       "      <td>1600.000000</td>\n",
       "      <td>5.000000</td>\n",
       "      <td>1085.00000</td>\n",
       "    </tr>\n",
       "    <tr>\n",
       "      <th>max</th>\n",
       "      <td>1436.000000</td>\n",
       "      <td>32500.000000</td>\n",
       "      <td>80.000000</td>\n",
       "      <td>243000.000000</td>\n",
       "      <td>192.000000</td>\n",
       "      <td>1.000000</td>\n",
       "      <td>1.000000</td>\n",
       "      <td>2000.000000</td>\n",
       "      <td>5.000000</td>\n",
       "      <td>1615.00000</td>\n",
       "    </tr>\n",
       "  </tbody>\n",
       "</table>\n",
       "</div>"
      ],
      "text/plain": [
       "        Unnamed: 0         Price          Age             KM           HP  \\\n",
       "count  1436.000000   1436.000000  1436.000000    1436.000000  1436.000000   \n",
       "mean    718.500000  10730.824513    55.947075   68533.259749   101.502089   \n",
       "std     414.681806   3626.964585    18.599988   37506.448872    14.981080   \n",
       "min       1.000000   4350.000000     1.000000       1.000000    69.000000   \n",
       "25%     359.750000   8450.000000    44.000000   43000.000000    90.000000   \n",
       "50%     718.500000   9900.000000    61.000000   63389.500000   110.000000   \n",
       "75%    1077.250000  11950.000000    70.000000   87020.750000   110.000000   \n",
       "max    1436.000000  32500.000000    80.000000  243000.000000   192.000000   \n",
       "\n",
       "          MetColor    Automatic           CC        Doors      Weight  \n",
       "count  1436.000000  1436.000000  1436.000000  1436.000000  1436.00000  \n",
       "mean      0.674791     0.055710  1566.827994     4.033426  1072.45961  \n",
       "std       0.468616     0.229441   187.182436     0.952677    52.64112  \n",
       "min       0.000000     0.000000  1300.000000     2.000000  1000.00000  \n",
       "25%       0.000000     0.000000  1400.000000     3.000000  1040.00000  \n",
       "50%       1.000000     0.000000  1600.000000     4.000000  1070.00000  \n",
       "75%       1.000000     0.000000  1600.000000     5.000000  1085.00000  \n",
       "max       1.000000     1.000000  2000.000000     5.000000  1615.00000  "
      ]
     },
     "execution_count": 12,
     "metadata": {},
     "output_type": "execute_result"
    }
   ],
   "source": [
    "usedcarprices.describe()\n",
    "\n",
    "#count - No of observations\n",
    "#mean - average \n",
    "#std - standard deviation\n",
    "#min - minimum value of specific column\n",
    "#max - maximum valuw of specific column\n",
    "#Quartile / Quantiles - Splits data into 4 equal parts\n",
    "#Zero Quartile - Minimum\n",
    "#25% - First Quartile\n",
    "#50% - Second Quartile\n",
    "#75% - Third Quartile\n",
    "#100% - Max value # Quartiles used to convert Numeric data to Categorical data "
   ]
  },
  {
   "cell_type": "code",
   "execution_count": 13,
   "metadata": {},
   "outputs": [],
   "source": [
    "marks = ([65,69,90,92,95]) #Array of Marks - Array starts with paranthesis and for multiple values seperated  by comma in square brackets"
   ]
  },
  {
   "cell_type": "code",
   "execution_count": 14,
   "metadata": {},
   "outputs": [
    {
     "data": {
      "text/plain": [
       "[65, 69, 90, 92, 95]"
      ]
     },
     "execution_count": 14,
     "metadata": {},
     "output_type": "execute_result"
    }
   ],
   "source": [
    "marks"
   ]
  },
  {
   "cell_type": "code",
   "execution_count": 16,
   "metadata": {},
   "outputs": [
    {
     "data": {
      "text/plain": [
       "82.2"
      ]
     },
     "execution_count": 16,
     "metadata": {},
     "output_type": "execute_result"
    }
   ],
   "source": [
    "np.mean(marks)"
   ]
  },
  {
   "cell_type": "code",
   "execution_count": 21,
   "metadata": {},
   "outputs": [
    {
     "data": {
      "text/plain": [
       "90.0"
      ]
     },
     "execution_count": 21,
     "metadata": {},
     "output_type": "execute_result"
    }
   ],
   "source": [
    "np.median(marks) #Best performance indicator is median not mean"
   ]
  },
  {
   "cell_type": "code",
   "execution_count": 22,
   "metadata": {},
   "outputs": [],
   "source": [
    "#Mean Distortion due to high values or low values\n",
    "#ALways check mean and median, and if there is big difference between mean and median choose median"
   ]
  },
  {
   "cell_type": "code",
   "execution_count": 23,
   "metadata": {},
   "outputs": [],
   "source": [
    "#Varience indicates scattering of observations around mean\n",
    "#std deviation"
   ]
  },
  {
   "cell_type": "code",
   "execution_count": 24,
   "metadata": {},
   "outputs": [
    {
     "data": {
      "text/plain": [
       "158.16"
      ]
     },
     "execution_count": 24,
     "metadata": {},
     "output_type": "execute_result"
    }
   ],
   "source": [
    "np.var(marks)"
   ]
  },
  {
   "cell_type": "code",
   "execution_count": 25,
   "metadata": {},
   "outputs": [
    {
     "data": {
      "text/plain": [
       "12.576167937809991"
      ]
     },
     "execution_count": 25,
     "metadata": {},
     "output_type": "execute_result"
    }
   ],
   "source": [
    "np.std(marks)"
   ]
  },
  {
   "cell_type": "code",
   "execution_count": 26,
   "metadata": {},
   "outputs": [
    {
     "data": {
      "text/plain": [
       "12.576167937809991"
      ]
     },
     "execution_count": 26,
     "metadata": {},
     "output_type": "execute_result"
    }
   ],
   "source": [
    "np.sqrt(np.var(marks))"
   ]
  },
  {
   "cell_type": "code",
   "execution_count": 29,
   "metadata": {},
   "outputs": [
    {
     "data": {
      "text/plain": [
       "0       13500\n",
       "1       13750\n",
       "2       13950\n",
       "3       14950\n",
       "4       13750\n",
       "5       12950\n",
       "6       16900\n",
       "7       18600\n",
       "8       21500\n",
       "9       12950\n",
       "10      20950\n",
       "11      19950\n",
       "12      19600\n",
       "13      21500\n",
       "14      22500\n",
       "15      22000\n",
       "16      22750\n",
       "17      17950\n",
       "18      16750\n",
       "19      16950\n",
       "20      15950\n",
       "21      16950\n",
       "22      15950\n",
       "23      16950\n",
       "24      16250\n",
       "25      15950\n",
       "26      17495\n",
       "27      15750\n",
       "28      16950\n",
       "29      17950\n",
       "        ...  \n",
       "1406     8950\n",
       "1407     8250\n",
       "1408     9250\n",
       "1409     7900\n",
       "1410     8500\n",
       "1411     7950\n",
       "1412     9950\n",
       "1413     8750\n",
       "1414     7500\n",
       "1415     6950\n",
       "1416     8950\n",
       "1417     8750\n",
       "1418     7750\n",
       "1419     8450\n",
       "1420     8150\n",
       "1421     8500\n",
       "1422     7600\n",
       "1423     7950\n",
       "1424     7750\n",
       "1425     7950\n",
       "1426     9950\n",
       "1427     8950\n",
       "1428     8450\n",
       "1429     8950\n",
       "1430     8450\n",
       "1431     7500\n",
       "1432    10845\n",
       "1433     8500\n",
       "1434     7250\n",
       "1435     6950\n",
       "Name: Price, Length: 1436, dtype: int64"
      ]
     },
     "execution_count": 29,
     "metadata": {},
     "output_type": "execute_result"
    }
   ],
   "source": [
    "#Indexing - refering to specific columns\n",
    "usedcarprices.Price #Character Indexing\n",
    "usedcarprices['Price'] #Character indexing"
   ]
  },
  {
   "cell_type": "code",
   "execution_count": 30,
   "metadata": {},
   "outputs": [
    {
     "data": {
      "text/plain": [
       "10730.824512534818"
      ]
     },
     "execution_count": 30,
     "metadata": {},
     "output_type": "execute_result"
    }
   ],
   "source": [
    "np.mean(usedcarprices.Price)"
   ]
  },
  {
   "cell_type": "code",
   "execution_count": 31,
   "metadata": {},
   "outputs": [
    {
     "data": {
      "text/plain": [
       "9900.0"
      ]
     },
     "execution_count": 31,
     "metadata": {},
     "output_type": "execute_result"
    }
   ],
   "source": [
    "np.median(usedcarprices.Price)"
   ]
  },
  {
   "cell_type": "code",
   "execution_count": 32,
   "metadata": {},
   "outputs": [
    {
     "data": {
      "text/plain": [
       "13145711.325750075"
      ]
     },
     "execution_count": 32,
     "metadata": {},
     "output_type": "execute_result"
    }
   ],
   "source": [
    "np.var(usedcarprices.Price)"
   ]
  },
  {
   "cell_type": "code",
   "execution_count": 33,
   "metadata": {},
   "outputs": [
    {
     "data": {
      "text/plain": [
       "3625.701494297355"
      ]
     },
     "execution_count": 33,
     "metadata": {},
     "output_type": "execute_result"
    }
   ],
   "source": [
    "np.std(usedcarprices.Price)"
   ]
  },
  {
   "cell_type": "code",
   "execution_count": 34,
   "metadata": {},
   "outputs": [],
   "source": [
    "from scipy.stats import skew"
   ]
  },
  {
   "cell_type": "code",
   "execution_count": 35,
   "metadata": {},
   "outputs": [
    {
     "data": {
      "text/plain": [
       "1.702104639170028"
      ]
     },
     "execution_count": 35,
     "metadata": {},
     "output_type": "execute_result"
    }
   ],
   "source": [
    "skew(usedcarprices.Price)"
   ]
  },
  {
   "cell_type": "code",
   "execution_count": 41,
   "metadata": {},
   "outputs": [
    {
     "data": {
      "text/plain": [
       "<matplotlib.axes._subplots.AxesSubplot at 0x2a198875198>"
      ]
     },
     "execution_count": 41,
     "metadata": {},
     "output_type": "execute_result"
    },
    {
     "data": {
      "image/png": "[encoded data removed]",
      "text/plain": [
       "<matplotlib.figure.Figure at 0x2a198c6c128>"
      ]
     },
     "metadata": {},
     "output_type": "display_data"
    }
   ],
   "source": [
    "usedcarprices.Price.plot(kind = 'density')"
   ]
  },
  {
   "cell_type": "code",
   "execution_count": 38,
   "metadata": {},
   "outputs": [],
   "source": [
    "from scipy.stats import kurtosis"
   ]
  },
  {
   "cell_type": "code",
   "execution_count": 42,
   "metadata": {},
   "outputs": [
    {
     "data": {
      "text/plain": [
       "3.720603948160326"
      ]
     },
     "execution_count": 42,
     "metadata": {},
     "output_type": "execute_result"
    }
   ],
   "source": [
    "kurtosis(usedcarprices.Price)"
   ]
  },
  {
   "cell_type": "code",
   "execution_count": 45,
   "metadata": {},
   "outputs": [],
   "source": [
    "#Measure of Relationship\n",
    "#Covariance - Positive - Both Variables moving together in same direction\n",
    "             #Negative both variables moving in opposite direction\n",
    "# Corelation - Strength of relationship in numeric terms\n",
    "# 0.60 - 099 - High Correlation\n",
    "#0.30 to 0.59 - Medium Correlation\n",
    "# 001 - 0.29 - Weak Correlation \n",
    "# 0 or less than 0 - no correlation"
   ]
  },
  {
   "cell_type": "code",
   "execution_count": 46,
   "metadata": {},
   "outputs": [
    {
     "data": {
      "text/html": [
       "<div>\n",
       "<style scoped>\n",
       "    .dataframe tbody tr th:only-of-type {\n",
       "        vertical-align: middle;\n",
       "    }\n",
       "\n",
       "    .dataframe tbody tr th {\n",
       "        vertical-align: top;\n",
       "    }\n",
       "\n",
       "    .dataframe thead th {\n",
       "        text-align: right;\n",
       "    }\n",
       "</style>\n",
       "<table border=\"1\" class=\"dataframe\">\n",
       "  <thead>\n",
       "    <tr style=\"text-align: right;\">\n",
       "      <th></th>\n",
       "      <th>Unnamed: 0</th>\n",
       "      <th>Price</th>\n",
       "      <th>Age</th>\n",
       "      <th>KM</th>\n",
       "      <th>HP</th>\n",
       "      <th>MetColor</th>\n",
       "      <th>Automatic</th>\n",
       "      <th>CC</th>\n",
       "      <th>Doors</th>\n",
       "      <th>Weight</th>\n",
       "    </tr>\n",
       "  </thead>\n",
       "  <tbody>\n",
       "    <tr>\n",
       "      <th>Unnamed: 0</th>\n",
       "      <td>1.719610e+05</td>\n",
       "      <td>-1.110414e+06</td>\n",
       "      <td>6989.306620</td>\n",
       "      <td>4.249309e+06</td>\n",
       "      <td>-679.515331</td>\n",
       "      <td>-15.493728</td>\n",
       "      <td>6.308014</td>\n",
       "      <td>-1.432032e+04</td>\n",
       "      <td>-51.463415</td>\n",
       "      <td>-9049.942160</td>\n",
       "    </tr>\n",
       "    <tr>\n",
       "      <th>Price</th>\n",
       "      <td>-1.110414e+06</td>\n",
       "      <td>1.315487e+07</td>\n",
       "      <td>-59136.108946</td>\n",
       "      <td>-7.753428e+07</td>\n",
       "      <td>17115.238694</td>\n",
       "      <td>185.100381</td>\n",
       "      <td>27.528947</td>\n",
       "      <td>1.120646e+05</td>\n",
       "      <td>640.359877</td>\n",
       "      <td>110966.590817</td>\n",
       "    </tr>\n",
       "    <tr>\n",
       "      <th>Age</th>\n",
       "      <td>6.989307e+03</td>\n",
       "      <td>-5.913611e+04</td>\n",
       "      <td>345.959566</td>\n",
       "      <td>3.527668e+05</td>\n",
       "      <td>-43.642398</td>\n",
       "      <td>-0.942659</td>\n",
       "      <td>0.135355</td>\n",
       "      <td>-4.636837e+02</td>\n",
       "      <td>-2.628892</td>\n",
       "      <td>-460.436285</td>\n",
       "    </tr>\n",
       "    <tr>\n",
       "      <th>KM</th>\n",
       "      <td>4.249309e+06</td>\n",
       "      <td>-7.753428e+07</td>\n",
       "      <td>352766.779610</td>\n",
       "      <td>1.406734e+09</td>\n",
       "      <td>-187410.669881</td>\n",
       "      <td>-1414.929406</td>\n",
       "      <td>-704.397756</td>\n",
       "      <td>2.121261e+06</td>\n",
       "      <td>-1293.359908</td>\n",
       "      <td>-56464.263717</td>\n",
       "    </tr>\n",
       "    <tr>\n",
       "      <th>HP</th>\n",
       "      <td>-6.795153e+02</td>\n",
       "      <td>1.711524e+04</td>\n",
       "      <td>-43.642398</td>\n",
       "      <td>-1.874107e+05</td>\n",
       "      <td>224.432748</td>\n",
       "      <td>0.412178</td>\n",
       "      <td>0.045180</td>\n",
       "      <td>1.426878e+02</td>\n",
       "      <td>1.319094</td>\n",
       "      <td>70.671513</td>\n",
       "    </tr>\n",
       "    <tr>\n",
       "      <th>MetColor</th>\n",
       "      <td>-1.549373e+01</td>\n",
       "      <td>1.851004e+02</td>\n",
       "      <td>-0.942659</td>\n",
       "      <td>-1.414929e+03</td>\n",
       "      <td>0.412178</td>\n",
       "      <td>0.219601</td>\n",
       "      <td>-0.002079</td>\n",
       "      <td>3.063187e+00</td>\n",
       "      <td>0.038056</td>\n",
       "      <td>1.429016</td>\n",
       "    </tr>\n",
       "    <tr>\n",
       "      <th>Automatic</th>\n",
       "      <td>6.308014e+00</td>\n",
       "      <td>2.752895e+01</td>\n",
       "      <td>0.135355</td>\n",
       "      <td>-7.043978e+02</td>\n",
       "      <td>0.045180</td>\n",
       "      <td>-0.002079</td>\n",
       "      <td>0.052643</td>\n",
       "      <td>-2.977170e+00</td>\n",
       "      <td>-0.006045</td>\n",
       "      <td>0.691450</td>\n",
       "    </tr>\n",
       "    <tr>\n",
       "      <th>CC</th>\n",
       "      <td>-1.432032e+04</td>\n",
       "      <td>1.120646e+05</td>\n",
       "      <td>-463.683674</td>\n",
       "      <td>2.121261e+06</td>\n",
       "      <td>142.687816</td>\n",
       "      <td>3.063187</td>\n",
       "      <td>-2.977170</td>\n",
       "      <td>3.503726e+04</td>\n",
       "      <td>22.605753</td>\n",
       "      <td>6419.054023</td>\n",
       "    </tr>\n",
       "    <tr>\n",
       "      <th>Doors</th>\n",
       "      <td>-5.146341e+01</td>\n",
       "      <td>6.403599e+02</td>\n",
       "      <td>-2.628892</td>\n",
       "      <td>-1.293360e+03</td>\n",
       "      <td>1.319094</td>\n",
       "      <td>0.038056</td>\n",
       "      <td>-0.006045</td>\n",
       "      <td>2.260575e+01</td>\n",
       "      <td>0.907593</td>\n",
       "      <td>15.176264</td>\n",
       "    </tr>\n",
       "    <tr>\n",
       "      <th>Weight</th>\n",
       "      <td>-9.049942e+03</td>\n",
       "      <td>1.109666e+05</td>\n",
       "      <td>-460.436285</td>\n",
       "      <td>-5.646426e+04</td>\n",
       "      <td>70.671513</td>\n",
       "      <td>1.429016</td>\n",
       "      <td>0.691450</td>\n",
       "      <td>6.419054e+03</td>\n",
       "      <td>15.176264</td>\n",
       "      <td>2771.087566</td>\n",
       "    </tr>\n",
       "  </tbody>\n",
       "</table>\n",
       "</div>"
      ],
      "text/plain": [
       "              Unnamed: 0         Price            Age            KM  \\\n",
       "Unnamed: 0  1.719610e+05 -1.110414e+06    6989.306620  4.249309e+06   \n",
       "Price      -1.110414e+06  1.315487e+07  -59136.108946 -7.753428e+07   \n",
       "Age         6.989307e+03 -5.913611e+04     345.959566  3.527668e+05   \n",
       "KM          4.249309e+06 -7.753428e+07  352766.779610  1.406734e+09   \n",
       "HP         -6.795153e+02  1.711524e+04     -43.642398 -1.874107e+05   \n",
       "MetColor   -1.549373e+01  1.851004e+02      -0.942659 -1.414929e+03   \n",
       "Automatic   6.308014e+00  2.752895e+01       0.135355 -7.043978e+02   \n",
       "CC         -1.432032e+04  1.120646e+05    -463.683674  2.121261e+06   \n",
       "Doors      -5.146341e+01  6.403599e+02      -2.628892 -1.293360e+03   \n",
       "Weight     -9.049942e+03  1.109666e+05    -460.436285 -5.646426e+04   \n",
       "\n",
       "                       HP     MetColor   Automatic            CC        Doors  \\\n",
       "Unnamed: 0    -679.515331   -15.493728    6.308014 -1.432032e+04   -51.463415   \n",
       "Price        17115.238694   185.100381   27.528947  1.120646e+05   640.359877   \n",
       "Age            -43.642398    -0.942659    0.135355 -4.636837e+02    -2.628892   \n",
       "KM         -187410.669881 -1414.929406 -704.397756  2.121261e+06 -1293.359908   \n",
       "HP             224.432748     0.412178    0.045180  1.426878e+02     1.319094   \n",
       "MetColor         0.412178     0.219601   -0.002079  3.063187e+00     0.038056   \n",
       "Automatic        0.045180    -0.002079    0.052643 -2.977170e+00    -0.006045   \n",
       "CC             142.687816     3.063187   -2.977170  3.503726e+04    22.605753   \n",
       "Doors            1.319094     0.038056   -0.006045  2.260575e+01     0.907593   \n",
       "Weight          70.671513     1.429016    0.691450  6.419054e+03    15.176264   \n",
       "\n",
       "                   Weight  \n",
       "Unnamed: 0   -9049.942160  \n",
       "Price       110966.590817  \n",
       "Age           -460.436285  \n",
       "KM          -56464.263717  \n",
       "HP              70.671513  \n",
       "MetColor         1.429016  \n",
       "Automatic        0.691450  \n",
       "CC            6419.054023  \n",
       "Doors           15.176264  \n",
       "Weight        2771.087566  "
      ]
     },
     "execution_count": 46,
     "metadata": {},
     "output_type": "execute_result"
    }
   ],
   "source": [
    "usedcarprices.cov() #Covariance matrix between variables"
   ]
  },
  {
   "cell_type": "code",
   "execution_count": 48,
   "metadata": {},
   "outputs": [
    {
     "data": {
      "text/html": [
       "<div>\n",
       "<style scoped>\n",
       "    .dataframe tbody tr th:only-of-type {\n",
       "        vertical-align: middle;\n",
       "    }\n",
       "\n",
       "    .dataframe tbody tr th {\n",
       "        vertical-align: top;\n",
       "    }\n",
       "\n",
       "    .dataframe thead th {\n",
       "        text-align: right;\n",
       "    }\n",
       "</style>\n",
       "<table border=\"1\" class=\"dataframe\">\n",
       "  <thead>\n",
       "    <tr style=\"text-align: right;\">\n",
       "      <th></th>\n",
       "      <th>Unnamed: 0</th>\n",
       "      <th>Price</th>\n",
       "      <th>Age</th>\n",
       "      <th>KM</th>\n",
       "      <th>HP</th>\n",
       "      <th>MetColor</th>\n",
       "      <th>Automatic</th>\n",
       "      <th>CC</th>\n",
       "      <th>Doors</th>\n",
       "      <th>Weight</th>\n",
       "    </tr>\n",
       "  </thead>\n",
       "  <tbody>\n",
       "    <tr>\n",
       "      <th>Unnamed: 0</th>\n",
       "      <td>1.000000</td>\n",
       "      <td>-0.738289</td>\n",
       "      <td>0.906163</td>\n",
       "      <td>0.273211</td>\n",
       "      <td>-0.109381</td>\n",
       "      <td>-0.079730</td>\n",
       "      <td>0.066299</td>\n",
       "      <td>-0.184490</td>\n",
       "      <td>-0.130268</td>\n",
       "      <td>-0.414577</td>\n",
       "    </tr>\n",
       "    <tr>\n",
       "      <th>Price</th>\n",
       "      <td>-0.738289</td>\n",
       "      <td>1.000000</td>\n",
       "      <td>-0.876590</td>\n",
       "      <td>-0.569960</td>\n",
       "      <td>0.314990</td>\n",
       "      <td>0.108905</td>\n",
       "      <td>0.033081</td>\n",
       "      <td>0.165067</td>\n",
       "      <td>0.185326</td>\n",
       "      <td>0.581198</td>\n",
       "    </tr>\n",
       "    <tr>\n",
       "      <th>Age</th>\n",
       "      <td>0.906163</td>\n",
       "      <td>-0.876590</td>\n",
       "      <td>1.000000</td>\n",
       "      <td>0.505672</td>\n",
       "      <td>-0.156622</td>\n",
       "      <td>-0.108150</td>\n",
       "      <td>0.031717</td>\n",
       "      <td>-0.133182</td>\n",
       "      <td>-0.148359</td>\n",
       "      <td>-0.470253</td>\n",
       "    </tr>\n",
       "    <tr>\n",
       "      <th>KM</th>\n",
       "      <td>0.273211</td>\n",
       "      <td>-0.569960</td>\n",
       "      <td>0.505672</td>\n",
       "      <td>1.000000</td>\n",
       "      <td>-0.333538</td>\n",
       "      <td>-0.080503</td>\n",
       "      <td>-0.081854</td>\n",
       "      <td>0.302150</td>\n",
       "      <td>-0.036197</td>\n",
       "      <td>-0.028598</td>\n",
       "    </tr>\n",
       "    <tr>\n",
       "      <th>HP</th>\n",
       "      <td>-0.109381</td>\n",
       "      <td>0.314990</td>\n",
       "      <td>-0.156622</td>\n",
       "      <td>-0.333538</td>\n",
       "      <td>1.000000</td>\n",
       "      <td>0.058712</td>\n",
       "      <td>0.013144</td>\n",
       "      <td>0.050884</td>\n",
       "      <td>0.092424</td>\n",
       "      <td>0.089614</td>\n",
       "    </tr>\n",
       "    <tr>\n",
       "      <th>MetColor</th>\n",
       "      <td>-0.079730</td>\n",
       "      <td>0.108905</td>\n",
       "      <td>-0.108150</td>\n",
       "      <td>-0.080503</td>\n",
       "      <td>0.058712</td>\n",
       "      <td>1.000000</td>\n",
       "      <td>-0.019335</td>\n",
       "      <td>0.034921</td>\n",
       "      <td>0.085243</td>\n",
       "      <td>0.057929</td>\n",
       "    </tr>\n",
       "    <tr>\n",
       "      <th>Automatic</th>\n",
       "      <td>0.066299</td>\n",
       "      <td>0.033081</td>\n",
       "      <td>0.031717</td>\n",
       "      <td>-0.081854</td>\n",
       "      <td>0.013144</td>\n",
       "      <td>-0.019335</td>\n",
       "      <td>1.000000</td>\n",
       "      <td>-0.069321</td>\n",
       "      <td>-0.027654</td>\n",
       "      <td>0.057249</td>\n",
       "    </tr>\n",
       "    <tr>\n",
       "      <th>CC</th>\n",
       "      <td>-0.184490</td>\n",
       "      <td>0.165067</td>\n",
       "      <td>-0.133182</td>\n",
       "      <td>0.302150</td>\n",
       "      <td>0.050884</td>\n",
       "      <td>0.034921</td>\n",
       "      <td>-0.069321</td>\n",
       "      <td>1.000000</td>\n",
       "      <td>0.126768</td>\n",
       "      <td>0.651450</td>\n",
       "    </tr>\n",
       "    <tr>\n",
       "      <th>Doors</th>\n",
       "      <td>-0.130268</td>\n",
       "      <td>0.185326</td>\n",
       "      <td>-0.148359</td>\n",
       "      <td>-0.036197</td>\n",
       "      <td>0.092424</td>\n",
       "      <td>0.085243</td>\n",
       "      <td>-0.027654</td>\n",
       "      <td>0.126768</td>\n",
       "      <td>1.000000</td>\n",
       "      <td>0.302618</td>\n",
       "    </tr>\n",
       "    <tr>\n",
       "      <th>Weight</th>\n",
       "      <td>-0.414577</td>\n",
       "      <td>0.581198</td>\n",
       "      <td>-0.470253</td>\n",
       "      <td>-0.028598</td>\n",
       "      <td>0.089614</td>\n",
       "      <td>0.057929</td>\n",
       "      <td>0.057249</td>\n",
       "      <td>0.651450</td>\n",
       "      <td>0.302618</td>\n",
       "      <td>1.000000</td>\n",
       "    </tr>\n",
       "  </tbody>\n",
       "</table>\n",
       "</div>"
      ],
      "text/plain": [
       "            Unnamed: 0     Price       Age        KM        HP  MetColor  \\\n",
       "Unnamed: 0    1.000000 -0.738289  0.906163  0.273211 -0.109381 -0.079730   \n",
       "Price        -0.738289  1.000000 -0.876590 -0.569960  0.314990  0.108905   \n",
       "Age           0.906163 -0.876590  1.000000  0.505672 -0.156622 -0.108150   \n",
       "KM            0.273211 -0.569960  0.505672  1.000000 -0.333538 -0.080503   \n",
       "HP           -0.109381  0.314990 -0.156622 -0.333538  1.000000  0.058712   \n",
       "MetColor     -0.079730  0.108905 -0.108150 -0.080503  0.058712  1.000000   \n",
       "Automatic     0.066299  0.033081  0.031717 -0.081854  0.013144 -0.019335   \n",
       "CC           -0.184490  0.165067 -0.133182  0.302150  0.050884  0.034921   \n",
       "Doors        -0.130268  0.185326 -0.148359 -0.036197  0.092424  0.085243   \n",
       "Weight       -0.414577  0.581198 -0.470253 -0.028598  0.089614  0.057929   \n",
       "\n",
       "            Automatic        CC     Doors    Weight  \n",
       "Unnamed: 0   0.066299 -0.184490 -0.130268 -0.414577  \n",
       "Price        0.033081  0.165067  0.185326  0.581198  \n",
       "Age          0.031717 -0.133182 -0.148359 -0.470253  \n",
       "KM          -0.081854  0.302150 -0.036197 -0.028598  \n",
       "HP           0.013144  0.050884  0.092424  0.089614  \n",
       "MetColor    -0.019335  0.034921  0.085243  0.057929  \n",
       "Automatic    1.000000 -0.069321 -0.027654  0.057249  \n",
       "CC          -0.069321  1.000000  0.126768  0.651450  \n",
       "Doors       -0.027654  0.126768  1.000000  0.302618  \n",
       "Weight       0.057249  0.651450  0.302618  1.000000  "
      ]
     },
     "execution_count": 48,
     "metadata": {},
     "output_type": "execute_result"
    }
   ],
   "source": [
    "usedcarprices.corr() #Correlation"
   ]
  },
  {
   "cell_type": "code",
   "execution_count": 50,
   "metadata": {},
   "outputs": [],
   "source": [
    "# Plots in Python Pandas\n",
    "# Usecdarprices.Price.Plot(Kind = \"Line\")\n",
    "\n",
    "#Kind = Line for Line plot\n",
    "#Kind = Hist for Histogram\n",
    "#Kind = Box for Box Plot\n",
    "#Kind = Density for density Curve"
   ]
  },
  {
   "cell_type": "code",
   "execution_count": 51,
   "metadata": {},
   "outputs": [
    {
     "data": {
      "text/plain": [
       "<matplotlib.axes._subplots.AxesSubplot at 0x2a198a3fda0>"
      ]
     },
     "execution_count": 51,
     "metadata": {},
     "output_type": "execute_result"
    },
    {
     "data": {
      "image/png": "[encoded data removed]",
      "text/plain": [
       "<matplotlib.figure.Figure at 0x2a198a52390>"
      ]
     },
     "metadata": {},
     "output_type": "display_data"
    }
   ],
   "source": [
    "usedcarprices.Price.plot(kind = \"line\")"
   ]
  },
  {
   "cell_type": "code",
   "execution_count": 53,
   "metadata": {},
   "outputs": [
    {
     "data": {
      "text/plain": [
       "<matplotlib.axes._subplots.AxesSubplot at 0x2a198ddadd8>"
      ]
     },
     "execution_count": 53,
     "metadata": {},
     "output_type": "execute_result"
    },
    {
     "data": {
      "image/png": "[encoded data removed]",
      "text/plain": [
       "<matplotlib.figure.Figure at 0x2a198e99780>"
      ]
     },
     "metadata": {},
     "output_type": "display_data"
    }
   ],
   "source": [
    "usedcarprices.Price.plot(kind = \"bar\")"
   ]
  },
  {
   "cell_type": "code",
   "execution_count": 54,
   "metadata": {},
   "outputs": [
    {
     "data": {
      "text/plain": [
       "<matplotlib.axes._subplots.AxesSubplot at 0x2a19c32e668>"
      ]
     },
     "execution_count": 54,
     "metadata": {},
     "output_type": "execute_result"
    },
    {
     "data": {
      "image/png": "[encoded data removed]",
      "text/plain": [
       "<matplotlib.figure.Figure at 0x2a19a034be0>"
      ]
     },
     "metadata": {},
     "output_type": "display_data"
    }
   ],
   "source": [
    "usedcarprices.Price.plot(kind = \"hist\")"
   ]
  },
  {
   "cell_type": "code",
   "execution_count": 59,
   "metadata": {
    "scrolled": true
   },
   "outputs": [
    {
     "data": {
      "text/plain": [
       "<matplotlib.axes._subplots.AxesSubplot at 0x2a19cf4e9e8>"
      ]
     },
     "execution_count": 59,
     "metadata": {},
     "output_type": "execute_result"
    },
    {
     "data": {
      "image/png": "[encoded data removed]",
      "text/plain": [
       "<matplotlib.figure.Figure at 0x2a19d03f128>"
      ]
     },
     "metadata": {},
     "output_type": "display_data"
    }
   ],
   "source": [
    "usedcarprices.Price.plot(kind = \"box\", vert=False)"
   ]
  },
  {
   "cell_type": "code",
   "execution_count": 58,
   "metadata": {},
   "outputs": [],
   "source": [
    "# Histograms Boxplots & Density Curve\n",
    "# a) Skewness of data\n",
    "# b) Outliers - Any Observation that falls outside 1.5 times inter quartile range \n",
    "#Classified as outlier . Interquartilerange = third Quartile - First QUartile\n",
    "# c) Whether there are any missing values\n"
   ]
  },
  {
   "cell_type": "code",
   "execution_count": 63,
   "metadata": {
    "scrolled": true
   },
   "outputs": [
    {
     "data": {
      "text/plain": [
       "<matplotlib.axes._subplots.AxesSubplot at 0x2a19e8cd978>"
      ]
     },
     "execution_count": 63,
     "metadata": {},
     "output_type": "execute_result"
    },
    {
     "data": {
      "image/png": "[encoded data removed]",
      "text/plain": [
       "<matplotlib.figure.Figure at 0x2a19e942e48>"
      ]
     },
     "metadata": {},
     "output_type": "display_data"
    }
   ],
   "source": [
    "# For Correcting positive skewness, the best statery is logarithmic transformation,square root transformation\n",
    "\n",
    "np.log(usedcarprices.Price).plot(kind = \"box\", vert = False)"
   ]
  },
  {
   "cell_type": "code",
   "execution_count": 64,
   "metadata": {},
   "outputs": [
    {
     "data": {
      "text/plain": [
       "<matplotlib.axes._subplots.AxesSubplot at 0x2a19e8efb70>"
      ]
     },
     "execution_count": 64,
     "metadata": {},
     "output_type": "execute_result"
    },
    {
     "data": {
      "image/png": "[encoded data removed]",
      "text/plain": [
       "<matplotlib.figure.Figure at 0x2a19e81fcf8>"
      ]
     },
     "metadata": {},
     "output_type": "display_data"
    }
   ],
   "source": [
    "# For negative skewness correction - exponential transformation, power transformation\n",
    "\n",
    "usedcarprices.plot(kind='scatter',x='Price', y = 'Age')"
   ]
  },
  {
   "cell_type": "code",
   "execution_count": 65,
   "metadata": {},
   "outputs": [
    {
     "data": {
      "text/plain": [
       "<matplotlib.axes._subplots.AxesSubplot at 0x2a19e96e908>"
      ]
     },
     "execution_count": 65,
     "metadata": {},
     "output_type": "execute_result"
    },
    {
     "data": {
      "image/png": "[encoded data removed]",
      "text/plain": [
       "<matplotlib.figure.Figure at 0x2a19e7d1940>"
      ]
     },
     "metadata": {},
     "output_type": "display_data"
    }
   ],
   "source": [
    "usedcarprices.plot(kind='scatter',x='Age', y = 'KM')"
   ]
  },
  {
   "cell_type": "code",
   "execution_count": null,
   "metadata": {},
   "outputs": [],
   "source": []
  }
 ],
 "metadata": {
  "kernelspec": {
   "display_name": "Python 3",
   "language": "python",
   "name": "python3"
  },
  "language_info": {
   "codemirror_mode": {
    "name": "ipython",
    "version": 3
   },
   "file_extension": ".py",
   "mimetype": "text/x-python",
   "name": "python",
   "nbconvert_exporter": "python",
   "pygments_lexer": "ipython3",
   "version": "3.6.6"
  }
 },
 "nbformat": 4,
 "nbformat_minor": 2
}
