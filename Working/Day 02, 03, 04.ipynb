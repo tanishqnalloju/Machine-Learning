{
 "cells": [
  {
   "cell_type": "code",
   "execution_count": 1,
   "metadata": {
    "collapsed": true
   },
   "outputs": [],
   "source": [
    "import pandas as pd\n",
    "import numpy as np\n",
    "import matplotlib.pyplot as plt\n",
    "%matplotlib inline"
   ]
  },
  {
   "cell_type": "code",
   "execution_count": 2,
   "metadata": {
    "collapsed": true
   },
   "outputs": [],
   "source": [
    "usedcarprices=pd.read_csv(\"/Users/Rajesh Prabhakar/Desktop/Datasets BITS/usedcarsales.csv\")"
   ]
  },
  {
   "cell_type": "code",
   "execution_count": 3,
   "metadata": {},
   "outputs": [
    {
     "ename": "SyntaxError",
     "evalue": "invalid syntax (<ipython-input-3-b6ac2e0499f2>, line 1)",
     "output_type": "error",
     "traceback": [
      "\u001b[1;36m  File \u001b[1;32m\"<ipython-input-3-b6ac2e0499f2>\"\u001b[1;36m, line \u001b[1;32m1\u001b[0m\n\u001b[1;33m    The following functions covered on Day1:\u001b[0m\n\u001b[1;37m                ^\u001b[0m\n\u001b[1;31mSyntaxError\u001b[0m\u001b[1;31m:\u001b[0m invalid syntax\n"
     ]
    }
   ],
   "source": [
    "The following functions covered on Day1:\n",
    "a) pd.read_csv(\"filepath\") for importing\n",
    "b) df.head() or df.tail() for first or Last five rows # df = dataframe\n",
    "c) df.shape for Num of rows & columns\n",
    "d) df.dtypes for Data type of each variable\n",
    "e) Dataframe(df) means combination rows(observations)&columns(variables) default\n",
    "\n",
    "Libraries Structure - pandas, numpy , matplotlib.pyplot, scipy.stats\n",
    "\n",
    "Descriptive Statistics - Univariate Statistics - Single Variable Statistics\n",
    "a) Measures of Central tendency - Mean, Median & Mode\n",
    "b) Measures of Dispersion - Range, Variance, Standard Deviation\n",
    "c) Measures of Asymmetry - Skewness & Kurtosis\n",
    "Bivariate Statistics - Two Variables Compulsory\n",
    "a) Measures of Relationship - Covariance & Correlation\n",
    "b) Scatter Plot\n",
    "\n",
    "Data Visualizations:\n",
    "Advanced Plots for Skewness, Outlier Detection & missing value detection\n",
    "a) Histogram\n",
    "b) Box Plot\n",
    "c) Density Plot"
   ]
  },
  {
   "cell_type": "code",
   "execution_count": 4,
   "metadata": {},
   "outputs": [
    {
     "ename": "SyntaxError",
     "evalue": "invalid syntax (<ipython-input-4-f45043af730b>, line 1)",
     "output_type": "error",
     "traceback": [
      "\u001b[1;36m  File \u001b[1;32m\"<ipython-input-4-f45043af730b>\"\u001b[1;36m, line \u001b[1;32m1\u001b[0m\n\u001b[1;33m    The fundamental data structure\u001b[0m\n\u001b[1;37m                  ^\u001b[0m\n\u001b[1;31mSyntaxError\u001b[0m\u001b[1;31m:\u001b[0m invalid syntax\n"
     ]
    }
   ],
   "source": [
    "The fundamental data structure \n",
    "Arrays - starts with paranthesis () & multiple items must be in square brackets\n",
    "Numerical Arrays-  marks = ([65,69,90,92,85])\n",
    "Character Arrays - names = ([\"John\",\"Peter\",\"Lisa\"])\n",
    "Boolean Arrays - bool=([True, False, True, False])\n",
    "\n",
    "for processing & running the algorithms python will convert dataframe into arrays\n",
    "in backend. The result or ouput of calculation will be arrays only.\n",
    "\n",
    "Numpy package function called np.array()\n",
    "\n",
    "Lists - starts with square brackets & multiple items sperated by commas\n",
    "varlist = ['Price','Age','KM','HP']\n",
    "\n",
    "Tupples are immutable arrays & they cannot be appended. Tuple canbe single array\n",
    "or Dense array of multiple variables\n",
    "tup1 = ('physics', 'chemistry', 1997, 2000)\n",
    "tup2 = (1, 2, 3, 4, 5 )\n",
    "\n",
    "Dictionaries\n",
    "Each key is separated from its value by a colon (:), \n",
    "the items are separated by commas, and the whole thing is enclosed in \n",
    "curly braces. {}\n",
    "dict = {'Name': 'Zara', 'Age': 7, 'Class': 'First'}\n"
   ]
  },
  {
   "cell_type": "code",
   "execution_count": 5,
   "metadata": {},
   "outputs": [
    {
     "data": {
      "text/html": [
       "<div>\n",
       "<style>\n",
       "    .dataframe thead tr:only-child th {\n",
       "        text-align: right;\n",
       "    }\n",
       "\n",
       "    .dataframe thead th {\n",
       "        text-align: left;\n",
       "    }\n",
       "\n",
       "    .dataframe tbody tr th {\n",
       "        vertical-align: top;\n",
       "    }\n",
       "</style>\n",
       "<table border=\"1\" class=\"dataframe\">\n",
       "  <thead>\n",
       "    <tr style=\"text-align: right;\">\n",
       "      <th></th>\n",
       "      <th>Unnamed: 0</th>\n",
       "      <th>Price</th>\n",
       "      <th>Age</th>\n",
       "      <th>KM</th>\n",
       "      <th>FuelType</th>\n",
       "      <th>HP</th>\n",
       "      <th>MetColor</th>\n",
       "      <th>Automatic</th>\n",
       "      <th>CC</th>\n",
       "      <th>Doors</th>\n",
       "      <th>Weight</th>\n",
       "      <th>AutoType</th>\n",
       "      <th>MetColorType</th>\n",
       "    </tr>\n",
       "  </thead>\n",
       "  <tbody>\n",
       "    <tr>\n",
       "      <th>0</th>\n",
       "      <td>1</td>\n",
       "      <td>13500</td>\n",
       "      <td>23</td>\n",
       "      <td>46986</td>\n",
       "      <td>Diesel</td>\n",
       "      <td>90</td>\n",
       "      <td>1</td>\n",
       "      <td>0</td>\n",
       "      <td>2000</td>\n",
       "      <td>3</td>\n",
       "      <td>1165</td>\n",
       "      <td>Manual</td>\n",
       "      <td>Metcolor</td>\n",
       "    </tr>\n",
       "    <tr>\n",
       "      <th>1</th>\n",
       "      <td>2</td>\n",
       "      <td>13750</td>\n",
       "      <td>23</td>\n",
       "      <td>72937</td>\n",
       "      <td>Diesel</td>\n",
       "      <td>90</td>\n",
       "      <td>1</td>\n",
       "      <td>0</td>\n",
       "      <td>2000</td>\n",
       "      <td>3</td>\n",
       "      <td>1165</td>\n",
       "      <td>Manual</td>\n",
       "      <td>Metcolor</td>\n",
       "    </tr>\n",
       "    <tr>\n",
       "      <th>2</th>\n",
       "      <td>3</td>\n",
       "      <td>13950</td>\n",
       "      <td>24</td>\n",
       "      <td>41711</td>\n",
       "      <td>Diesel</td>\n",
       "      <td>90</td>\n",
       "      <td>1</td>\n",
       "      <td>0</td>\n",
       "      <td>2000</td>\n",
       "      <td>3</td>\n",
       "      <td>1165</td>\n",
       "      <td>Manual</td>\n",
       "      <td>Metcolor</td>\n",
       "    </tr>\n",
       "    <tr>\n",
       "      <th>3</th>\n",
       "      <td>4</td>\n",
       "      <td>14950</td>\n",
       "      <td>26</td>\n",
       "      <td>48000</td>\n",
       "      <td>Diesel</td>\n",
       "      <td>90</td>\n",
       "      <td>0</td>\n",
       "      <td>0</td>\n",
       "      <td>2000</td>\n",
       "      <td>3</td>\n",
       "      <td>1165</td>\n",
       "      <td>Manual</td>\n",
       "      <td>NonMetcolor</td>\n",
       "    </tr>\n",
       "    <tr>\n",
       "      <th>4</th>\n",
       "      <td>5</td>\n",
       "      <td>13750</td>\n",
       "      <td>30</td>\n",
       "      <td>38500</td>\n",
       "      <td>Diesel</td>\n",
       "      <td>90</td>\n",
       "      <td>0</td>\n",
       "      <td>0</td>\n",
       "      <td>2000</td>\n",
       "      <td>3</td>\n",
       "      <td>1170</td>\n",
       "      <td>Manual</td>\n",
       "      <td>NonMetcolor</td>\n",
       "    </tr>\n",
       "  </tbody>\n",
       "</table>\n",
       "</div>"
      ],
      "text/plain": [
       "   Unnamed: 0  Price  Age     KM FuelType  HP  MetColor  Automatic    CC  \\\n",
       "0           1  13500   23  46986   Diesel  90         1          0  2000   \n",
       "1           2  13750   23  72937   Diesel  90         1          0  2000   \n",
       "2           3  13950   24  41711   Diesel  90         1          0  2000   \n",
       "3           4  14950   26  48000   Diesel  90         0          0  2000   \n",
       "4           5  13750   30  38500   Diesel  90         0          0  2000   \n",
       "\n",
       "   Doors  Weight AutoType MetColorType  \n",
       "0      3    1165   Manual     Metcolor  \n",
       "1      3    1165   Manual     Metcolor  \n",
       "2      3    1165   Manual     Metcolor  \n",
       "3      3    1165   Manual  NonMetcolor  \n",
       "4      3    1170   Manual  NonMetcolor  "
      ]
     },
     "execution_count": 5,
     "metadata": {},
     "output_type": "execute_result"
    }
   ],
   "source": [
    "usedcarprices.head()"
   ]
  },
  {
   "cell_type": "code",
   "execution_count": 6,
   "metadata": {},
   "outputs": [
    {
     "ename": "SyntaxError",
     "evalue": "invalid syntax (<ipython-input-6-ceda2c063a42>, line 1)",
     "output_type": "error",
     "traceback": [
      "\u001b[1;36m  File \u001b[1;32m\"<ipython-input-6-ceda2c063a42>\"\u001b[1;36m, line \u001b[1;32m1\u001b[0m\n\u001b[1;33m    THE ONLY TYPE OF ANALYSIS ON CATEGORIAL, CHARACTER OR STRING DATA IS\u001b[0m\n\u001b[1;37m           ^\u001b[0m\n\u001b[1;31mSyntaxError\u001b[0m\u001b[1;31m:\u001b[0m invalid syntax\n"
     ]
    }
   ],
   "source": [
    "THE ONLY TYPE OF ANALYSIS ON CATEGORIAL, CHARACTER OR STRING DATA IS\n",
    "FREQUENCY COUNTS - HOW MANY TYPES THE PARTICULAR CLASS OR GROUP OR ITEM REPEATING"
   ]
  },
  {
   "cell_type": "code",
   "execution_count": 7,
   "metadata": {},
   "outputs": [
    {
     "data": {
      "text/plain": [
       "Petrol    1264\n",
       "Diesel     155\n",
       "CNG         17\n",
       "Name: FuelType, dtype: int64"
      ]
     },
     "execution_count": 7,
     "metadata": {},
     "output_type": "execute_result"
    }
   ],
   "source": [
    "pd.value_counts(usedcarprices.FuelType)"
   ]
  },
  {
   "cell_type": "code",
   "execution_count": 8,
   "metadata": {},
   "outputs": [
    {
     "data": {
      "text/plain": [
       "<matplotlib.axes._subplots.AxesSubplot at 0x22bf94b6588>"
      ]
     },
     "execution_count": 8,
     "metadata": {},
     "output_type": "execute_result"
    },
    {
     "data": {
      "image/png": "[encoded data removed]",
      "text/plain": [
       "<Figure size 432x288 with 1 Axes>"
      ]
     },
     "metadata": {},
     "output_type": "display_data"
    }
   ],
   "source": [
    "pd.value_counts(usedcarprices.FuelType).plot(kind='bar')"
   ]
  },
  {
   "cell_type": "code",
   "execution_count": 9,
   "metadata": {},
   "outputs": [
    {
     "data": {
      "text/plain": [
       "Manual    1356\n",
       "Auto        80\n",
       "Name: AutoType, dtype: int64"
      ]
     },
     "execution_count": 9,
     "metadata": {},
     "output_type": "execute_result"
    }
   ],
   "source": [
    "pd.value_counts(usedcarprices.AutoType)"
   ]
  },
  {
   "cell_type": "code",
   "execution_count": 10,
   "metadata": {},
   "outputs": [
    {
     "data": {
      "text/plain": [
       "Metcolor       969\n",
       "NonMetcolor    467\n",
       "Name: MetColorType, dtype: int64"
      ]
     },
     "execution_count": 10,
     "metadata": {},
     "output_type": "execute_result"
    }
   ],
   "source": [
    "pd.value_counts(usedcarprices.MetColorType)"
   ]
  },
  {
   "cell_type": "code",
   "execution_count": 11,
   "metadata": {},
   "outputs": [
    {
     "data": {
      "text/html": [
       "<div>\n",
       "<style>\n",
       "    .dataframe thead tr:only-child th {\n",
       "        text-align: right;\n",
       "    }\n",
       "\n",
       "    .dataframe thead th {\n",
       "        text-align: left;\n",
       "    }\n",
       "\n",
       "    .dataframe tbody tr th {\n",
       "        vertical-align: top;\n",
       "    }\n",
       "</style>\n",
       "<table border=\"1\" class=\"dataframe\">\n",
       "  <thead>\n",
       "    <tr style=\"text-align: right;\">\n",
       "      <th>AutoType</th>\n",
       "      <th>Auto</th>\n",
       "      <th>Manual</th>\n",
       "    </tr>\n",
       "    <tr>\n",
       "      <th>FuelType</th>\n",
       "      <th></th>\n",
       "      <th></th>\n",
       "    </tr>\n",
       "  </thead>\n",
       "  <tbody>\n",
       "    <tr>\n",
       "      <th>CNG</th>\n",
       "      <td>1</td>\n",
       "      <td>16</td>\n",
       "    </tr>\n",
       "    <tr>\n",
       "      <th>Diesel</th>\n",
       "      <td>0</td>\n",
       "      <td>155</td>\n",
       "    </tr>\n",
       "    <tr>\n",
       "      <th>Petrol</th>\n",
       "      <td>79</td>\n",
       "      <td>1185</td>\n",
       "    </tr>\n",
       "  </tbody>\n",
       "</table>\n",
       "</div>"
      ],
      "text/plain": [
       "AutoType  Auto  Manual\n",
       "FuelType              \n",
       "CNG          1      16\n",
       "Diesel       0     155\n",
       "Petrol      79    1185"
      ]
     },
     "execution_count": 11,
     "metadata": {},
     "output_type": "execute_result"
    }
   ],
   "source": [
    "# CROSS TABULATION: TABLE OF TWO OR MORE CATEGORICAL OR STRING VARIABLES\n",
    "\n",
    "pd.crosstab(usedcarprices.FuelType,usedcarprices.AutoType)"
   ]
  },
  {
   "cell_type": "code",
   "execution_count": 12,
   "metadata": {},
   "outputs": [
    {
     "data": {
      "text/html": [
       "<div>\n",
       "<style>\n",
       "    .dataframe thead tr:only-child th {\n",
       "        text-align: right;\n",
       "    }\n",
       "\n",
       "    .dataframe thead th {\n",
       "        text-align: left;\n",
       "    }\n",
       "\n",
       "    .dataframe tbody tr th {\n",
       "        vertical-align: top;\n",
       "    }\n",
       "</style>\n",
       "<table border=\"1\" class=\"dataframe\">\n",
       "  <thead>\n",
       "    <tr style=\"text-align: right;\">\n",
       "      <th>MetColorType</th>\n",
       "      <th>Metcolor</th>\n",
       "      <th>NonMetcolor</th>\n",
       "    </tr>\n",
       "    <tr>\n",
       "      <th>AutoType</th>\n",
       "      <th></th>\n",
       "      <th></th>\n",
       "    </tr>\n",
       "  </thead>\n",
       "  <tbody>\n",
       "    <tr>\n",
       "      <th>Auto</th>\n",
       "      <td>51</td>\n",
       "      <td>29</td>\n",
       "    </tr>\n",
       "    <tr>\n",
       "      <th>Manual</th>\n",
       "      <td>918</td>\n",
       "      <td>438</td>\n",
       "    </tr>\n",
       "  </tbody>\n",
       "</table>\n",
       "</div>"
      ],
      "text/plain": [
       "MetColorType  Metcolor  NonMetcolor\n",
       "AutoType                           \n",
       "Auto                51           29\n",
       "Manual             918          438"
      ]
     },
     "execution_count": 12,
     "metadata": {},
     "output_type": "execute_result"
    }
   ],
   "source": [
    "#HOW MANY AUTO CARS ARE METALLIC COLOR OR MET COLOR\n",
    "pd.crosstab(usedcarprices.AutoType,usedcarprices.MetColorType)"
   ]
  },
  {
   "cell_type": "code",
   "execution_count": 13,
   "metadata": {},
   "outputs": [
    {
     "data": {
      "text/plain": [
       "<matplotlib.axes._subplots.AxesSubplot at 0x22bf992a8d0>"
      ]
     },
     "execution_count": 13,
     "metadata": {},
     "output_type": "execute_result"
    },
    {
     "data": {
      "image/png": "[encoded data removed]",
      "text/plain": [
       "<Figure size 432x288 with 1 Axes>"
      ]
     },
     "metadata": {},
     "output_type": "display_data"
    }
   ],
   "source": [
    "pd.crosstab(usedcarprices.AutoType,\n",
    "            usedcarprices.MetColorType).plot(kind='bar',stacked=True)"
   ]
  },
  {
   "cell_type": "code",
   "execution_count": 14,
   "metadata": {},
   "outputs": [
    {
     "data": {
      "text/plain": [
       "<matplotlib.axes._subplots.AxesSubplot at 0x22bf99a9160>"
      ]
     },
     "execution_count": 14,
     "metadata": {},
     "output_type": "execute_result"
    },
    {
     "data": {
      "image/png": "[encoded data removed]",
      "text/plain": [
       "<Figure size 432x288 with 1 Axes>"
      ]
     },
     "metadata": {},
     "output_type": "display_data"
    }
   ],
   "source": [
    "# CREATE STACKED BAR CHART OF FUELTYPE & AUTOTYPE\n",
    "pd.crosstab(usedcarprices.FuelType,\n",
    "           usedcarprices.AutoType).plot(kind=\"bar\",stacked=True)"
   ]
  },
  {
   "cell_type": "code",
   "execution_count": 15,
   "metadata": {},
   "outputs": [
    {
     "data": {
      "text/plain": [
       "count     1436.000000\n",
       "mean     10730.824513\n",
       "std       3626.964585\n",
       "min       4350.000000\n",
       "25%       8450.000000\n",
       "50%       9900.000000\n",
       "75%      11950.000000\n",
       "max      32500.000000\n",
       "Name: Price, dtype: float64"
      ]
     },
     "execution_count": 15,
     "metadata": {},
     "output_type": "execute_result"
    }
   ],
   "source": [
    "# DATA MANIPULATION - CREATION OF CATEGORICAL VARIABLES FROM NUMERIC VARIABLES\n",
    "# FOR DATA MANIPULATION - QUARTILES ARE USED FOR FIXING THE LOWER & UPPER LIMITS\n",
    "#FOR EACH CLASS OR GROUP\n",
    "\n",
    "# BASED ON PRICE CREATE NEW VARIABLE CALLED PRICETYPE - Very High Price, \n",
    "# HIGH PRICE, MEDIUM PRICE & LOW PRICE CAR\n",
    "usedcarprices.Price.describe()"
   ]
  },
  {
   "cell_type": "code",
   "execution_count": 16,
   "metadata": {
    "collapsed": true
   },
   "outputs": [],
   "source": [
    "PriceType=[]\n",
    "for row in usedcarprices.Price:\n",
    "    if row>=12000:\n",
    "        PriceType.append('Very High Price')\n",
    "    elif row>=10000:\n",
    "        PriceType.append('High Price')\n",
    "    elif row>=8500:\n",
    "        PriceType.append('Medium Price')\n",
    "    else:\n",
    "        PriceType.append('Low Price')\n",
    "usedcarprices['PriceType']=PriceType"
   ]
  },
  {
   "cell_type": "code",
   "execution_count": 17,
   "metadata": {},
   "outputs": [
    {
     "data": {
      "text/plain": [
       "Medium Price       450\n",
       "Low Price          372\n",
       "Very High Price    315\n",
       "High Price         299\n",
       "Name: PriceType, dtype: int64"
      ]
     },
     "execution_count": 17,
     "metadata": {},
     "output_type": "execute_result"
    }
   ],
   "source": [
    "pd.value_counts(usedcarprices.PriceType)"
   ]
  },
  {
   "cell_type": "code",
   "execution_count": 18,
   "metadata": {
    "collapsed": true
   },
   "outputs": [],
   "source": [
    "# CREATE NEW VARIABLE CALLED USAGETYPE BASED ON NUM OF KILOMETERS RUN OR KM VARIABLE\n",
    "\n",
    "# VERY HEAVRY USE (>=87000), HEAVY USE(>=63000), MEDIUM USE (>=45000) \n",
    "# & LOW USE(<45000) - 4 CLASS VARIABLE FROM KM\n",
    "\n",
    "UsageType=[]\n",
    "for row in usedcarprices.KM:\n",
    "    if row>=87000:\n",
    "        UsageType.append('Very Heavy Use')\n",
    "    elif row>=63000:\n",
    "        UsageType.append('Heavy Use')\n",
    "    elif row>=45000:\n",
    "        UsageType.append('Medium Use')\n",
    "    else:\n",
    "        UsageType.append('Low Use')\n",
    "usedcarprices['UsageType']=UsageType"
   ]
  },
  {
   "cell_type": "code",
   "execution_count": 19,
   "metadata": {},
   "outputs": [
    {
     "data": {
      "text/plain": [
       "Low Use           389\n",
       "Heavy Use         364\n",
       "Very Heavy Use    363\n",
       "Medium Use        320\n",
       "Name: UsageType, dtype: int64"
      ]
     },
     "execution_count": 19,
     "metadata": {},
     "output_type": "execute_result"
    }
   ],
   "source": [
    "pd.value_counts(usedcarprices.UsageType)"
   ]
  },
  {
   "cell_type": "code",
   "execution_count": 20,
   "metadata": {
    "collapsed": true
   },
   "outputs": [],
   "source": [
    "# CREATE A NEW VARIABLE BASED ON HP \n",
    "# HIGH SPEED, MEDIUM SPEED & LOW SPEED  \n",
    "\n",
    "SpeedType=[]\n",
    "for row in usedcarprices.HP:\n",
    "    if row>=110:\n",
    "        SpeedType.append('High Speed')\n",
    "    elif row>=90:\n",
    "        SpeedType.append('Medium Speed')\n",
    "    else:\n",
    "        SpeedType.append('Low Speed')\n",
    "usedcarprices['SpeedType']=SpeedType"
   ]
  },
  {
   "cell_type": "code",
   "execution_count": 21,
   "metadata": {},
   "outputs": [
    {
     "data": {
      "text/plain": [
       "High Speed      855\n",
       "Low Speed       358\n",
       "Medium Speed    223\n",
       "Name: SpeedType, dtype: int64"
      ]
     },
     "execution_count": 21,
     "metadata": {},
     "output_type": "execute_result"
    }
   ],
   "source": [
    "pd.value_counts(usedcarprices.SpeedType)"
   ]
  },
  {
   "cell_type": "code",
   "execution_count": 22,
   "metadata": {},
   "outputs": [
    {
     "data": {
      "text/plain": [
       "(1436, 16)"
      ]
     },
     "execution_count": 22,
     "metadata": {},
     "output_type": "execute_result"
    }
   ],
   "source": [
    "usedcarprices.shape"
   ]
  },
  {
   "cell_type": "code",
   "execution_count": 23,
   "metadata": {},
   "outputs": [
    {
     "data": {
      "text/plain": [
       "<matplotlib.axes._subplots.AxesSubplot at 0x22bf99a9278>"
      ]
     },
     "execution_count": 23,
     "metadata": {},
     "output_type": "execute_result"
    },
    {
     "data": {
      "image/png": "[encoded data removed]",
      "text/plain": [
       "<Figure size 432x288 with 1 Axes>"
      ]
     },
     "metadata": {},
     "output_type": "display_data"
    }
   ],
   "source": [
    "# HOW MANY HEAVY USE CARS ARE HIGH SPEED?\n",
    "pd.crosstab(usedcarprices.UsageType\n",
    "            ,usedcarprices.SpeedType).plot(kind='bar',stacked=True)"
   ]
  },
  {
   "cell_type": "code",
   "execution_count": 24,
   "metadata": {},
   "outputs": [
    {
     "ename": "SyntaxError",
     "evalue": "invalid syntax (<ipython-input-24-fb167c729c9d>, line 3)",
     "output_type": "error",
     "traceback": [
      "\u001b[1;36m  File \u001b[1;32m\"<ipython-input-24-fb167c729c9d>\"\u001b[1;36m, line \u001b[1;32m3\u001b[0m\n\u001b[1;33m    THERE ARE TWO TYPES CARS AUTO (80 CARS) & MANUAL CARS (1356 CARS)\u001b[0m\n\u001b[1;37m            ^\u001b[0m\n\u001b[1;31mSyntaxError\u001b[0m\u001b[1;31m:\u001b[0m invalid syntax\n"
     ]
    }
   ],
   "source": [
    "# INFERENTIAL STATISTICS - HYPOTHESIS TESTING IS COMPARISION OF MEANS OR AVERAGES\n",
    "\n",
    "THERE ARE TWO TYPES CARS AUTO (80 CARS) & MANUAL CARS (1356 CARS)\n",
    "\n",
    "THE AVERAGE PRICE OF MANUAL CARS = 10701.69174\n",
    "THE AVERAGE PRICE OF AUTO CARS = 11224.62500\n",
    "\n",
    "IS THE DIFFERENCE OF 500$ STATISTICALLY SIGNIFICANT OR NOT SIGNIFICANT\n",
    "\n",
    "NULL HYPOTHESIS - THE AVERAGE PRICE OF AUTO & MANUAL CARS IS EQUAL OR SAME\n",
    "ALTERNATE HYPO - THE AVERAGE PRICE OF AUTO & MANUAL CARS IS NOT EQUAL OR NOT SAME\n",
    "\n",
    "y variable - Price- Numerical & x variable - AutoType - Non Numerical - Two Types\n",
    " in this case we use 2 Sample Independent  T Test\n",
    "    \n",
    "If the p-value is less than 0.05 REJECT NULL HYPOTHESIS & ACCEPT THE ALTERNATE\n",
    "If the p-value is greater than 0.05 ACCEPT NULL & REJECT ALTERNATE\n",
    "\n",
    "0.05 - Alpha - 5% error rate - 95% Confidence level"
   ]
  },
  {
   "cell_type": "code",
   "execution_count": 25,
   "metadata": {},
   "outputs": [
    {
     "data": {
      "text/plain": [
       "AutoType\n",
       "Auto      11224.62500\n",
       "Manual    10701.69174\n",
       "Name: Price, dtype: float64"
      ]
     },
     "execution_count": 25,
     "metadata": {},
     "output_type": "execute_result"
    }
   ],
   "source": [
    "usedcarprices.Price.groupby(usedcarprices.AutoType).mean()"
   ]
  },
  {
   "cell_type": "code",
   "execution_count": 26,
   "metadata": {
    "collapsed": true
   },
   "outputs": [],
   "source": [
    "from scipy import stats as st"
   ]
  },
  {
   "cell_type": "code",
   "execution_count": 27,
   "metadata": {
    "collapsed": true
   },
   "outputs": [],
   "source": [
    "automatic=usedcarprices[usedcarprices.AutoType=='Auto'] # subsetting the data\n",
    "manual=usedcarprices[usedcarprices.AutoType=='Manual']"
   ]
  },
  {
   "cell_type": "code",
   "execution_count": 28,
   "metadata": {},
   "outputs": [
    {
     "data": {
      "text/plain": [
       "Ttest_indResult(statistic=1.2533921042135481, pvalue=0.21026735893250906)"
      ]
     },
     "execution_count": 28,
     "metadata": {},
     "output_type": "execute_result"
    }
   ],
   "source": [
    "st.ttest_ind(automatic.Price,manual.Price) # 2 Sample Independent T test\n",
    "\n",
    "# Since the p-value 0.21026 is greater than 0.05, we Accept the Null\n",
    "# There is No Significant Difference in the Average prices of Auto & Manual cars\n",
    "# The Difference of 500$ doesnot matter"
   ]
  },
  {
   "cell_type": "code",
   "execution_count": 29,
   "metadata": {
    "collapsed": true
   },
   "outputs": [],
   "source": [
    "# THERE ARE TWO TYPES OF METCOLORTYPE - METCOLOR & NON METCOLOR\n",
    "\n",
    "# FIND THE AVERAGE PRICES OF METCOLOR & NONMETCOLOR USING GROUPBY FUNCTION"
   ]
  },
  {
   "cell_type": "code",
   "execution_count": 30,
   "metadata": {},
   "outputs": [
    {
     "data": {
      "text/plain": [
       "MetColorType\n",
       "Metcolor       11004.941176\n",
       "NonMetcolor    10162.047109\n",
       "Name: Price, dtype: float64"
      ]
     },
     "execution_count": 30,
     "metadata": {},
     "output_type": "execute_result"
    }
   ],
   "source": [
    "usedcarprices.Price.groupby(usedcarprices.MetColorType).mean()"
   ]
  },
  {
   "cell_type": "code",
   "execution_count": 31,
   "metadata": {},
   "outputs": [
    {
     "ename": "SyntaxError",
     "evalue": "invalid syntax (<ipython-input-31-169e61a7ea20>, line 2)",
     "output_type": "error",
     "traceback": [
      "\u001b[1;36m  File \u001b[1;32m\"<ipython-input-31-169e61a7ea20>\"\u001b[1;36m, line \u001b[1;32m2\u001b[0m\n\u001b[1;33m    NONMETCOLOR CARS - BOTH MEANS ARE EQUAL\u001b[0m\n\u001b[1;37m                   ^\u001b[0m\n\u001b[1;31mSyntaxError\u001b[0m\u001b[1;31m:\u001b[0m invalid syntax\n"
     ]
    }
   ],
   "source": [
    "# NULL - THERE IS NO SIGNIFICANT DIFFERENCE IN AVERAGE PRICES OF METCOLOR &\n",
    "NONMETCOLOR CARS - BOTH MEANS ARE EQUAL\n",
    "# ALTERNATE - THERE IS SIGNIFICANT DIFFERENCE IN AVERAGE PRICES OF METCOLOR &\n",
    "NONMETCOLOR CARS - BOTH MEANS ARE NOT EQUAL"
   ]
  },
  {
   "cell_type": "code",
   "execution_count": 32,
   "metadata": {
    "collapsed": true
   },
   "outputs": [],
   "source": [
    "metcolor=usedcarprices[usedcarprices.MetColorType=='Metcolor']\n",
    "nonmetcolor=usedcarprices[usedcarprices.MetColorType=='NonMetcolor']"
   ]
  },
  {
   "cell_type": "code",
   "execution_count": 33,
   "metadata": {},
   "outputs": [
    {
     "data": {
      "text/plain": [
       "Ttest_indResult(statistic=4.1487018981997146, pvalue=3.5400828979506025e-05)"
      ]
     },
     "execution_count": 33,
     "metadata": {},
     "output_type": "execute_result"
    }
   ],
   "source": [
    "st.ttest_ind(metcolor.Price,nonmetcolor.Price)"
   ]
  },
  {
   "cell_type": "code",
   "execution_count": 34,
   "metadata": {
    "collapsed": true
   },
   "outputs": [],
   "source": [
    "# Since pvalue 0.00003540082 less than 0.005, REJECT the NULL\n",
    "# There is significant difference in average prices of metcolor & nonmetcolor cars\n",
    "# the difference of approx 1000$ is statistically significant"
   ]
  },
  {
   "cell_type": "code",
   "execution_count": 35,
   "metadata": {
    "collapsed": true
   },
   "outputs": [],
   "source": [
    "# ANOVA SINGLE FACTOR  - MORE THAN 2 TYPES OR GROUPS\n",
    "# NULL - THE AVERAGE PRICES OF PETROL, DIESEL & CNG CARS ARE EQUAL\n",
    "         # ALL MEANS ARE EQUAL\n",
    "# ALTERNATE - THE AVERAGE PRICES OF PETROL, DIESEL & CNG CARS ARE NOT EQUAL\n",
    "          # ALL MEANS ARE NOT EQUAL"
   ]
  },
  {
   "cell_type": "code",
   "execution_count": 36,
   "metadata": {},
   "outputs": [
    {
     "data": {
      "text/plain": [
       "FuelType\n",
       "CNG        9421.176471\n",
       "Diesel    11294.554839\n",
       "Petrol    10679.310127\n",
       "Name: Price, dtype: float64"
      ]
     },
     "execution_count": 36,
     "metadata": {},
     "output_type": "execute_result"
    }
   ],
   "source": [
    "usedcarprices.Price.groupby(usedcarprices.FuelType).mean()"
   ]
  },
  {
   "cell_type": "code",
   "execution_count": 37,
   "metadata": {
    "collapsed": true
   },
   "outputs": [],
   "source": [
    "petrol=usedcarprices[usedcarprices.FuelType=='Petrol']\n",
    "diesel=usedcarprices[usedcarprices.FuelType=='Diesel']\n",
    "cng=usedcarprices[usedcarprices.FuelType=='CNG']"
   ]
  },
  {
   "cell_type": "code",
   "execution_count": 38,
   "metadata": {},
   "outputs": [
    {
     "data": {
      "text/plain": [
       "F_onewayResult(statistic=3.1171479782774179, pvalue=0.044583699346313316)"
      ]
     },
     "execution_count": 38,
     "metadata": {},
     "output_type": "execute_result"
    }
   ],
   "source": [
    "st.f_oneway(petrol.Price,diesel.Price,cng.Price)\n",
    "# Since p-value is less than 0.05 REJECT NULL that the average prices of all three\n",
    "# cars is equal. the difference is statistically significant"
   ]
  },
  {
   "cell_type": "code",
   "execution_count": 39,
   "metadata": {
    "collapsed": true
   },
   "outputs": [],
   "source": [
    "# NULL - THE AVERAGE PRICES OF VERY HEAVY, HEAVY, MEDIUM & LOW USE CARS ARE EQUAL\n",
    "# fIRST DO THE GROUP BY OF PRICE & USAGETYPE\n",
    "# CONDUCT ANOVA SINGLE FACTOR TEST & INTERPRET"
   ]
  },
  {
   "cell_type": "code",
   "execution_count": 40,
   "metadata": {},
   "outputs": [
    {
     "data": {
      "text/plain": [
       "UsageType\n",
       "Heavy Use          9651.917582\n",
       "Low Use           13992.305913\n",
       "Medium Use        10547.215625\n",
       "Very Heavy Use     8479.476584\n",
       "Name: Price, dtype: float64"
      ]
     },
     "execution_count": 40,
     "metadata": {},
     "output_type": "execute_result"
    }
   ],
   "source": [
    "usedcarprices.Price.groupby(usedcarprices.UsageType).mean()"
   ]
  },
  {
   "cell_type": "code",
   "execution_count": 41,
   "metadata": {
    "collapsed": true
   },
   "outputs": [],
   "source": [
    "veryheavy=usedcarprices[usedcarprices.UsageType=='Very Heavy Use']\n",
    "heavy=usedcarprices[usedcarprices.UsageType=='Heavy Use']\n",
    "medium=usedcarprices[usedcarprices.UsageType=='Medium Use']\n",
    "low=usedcarprices[usedcarprices.UsageType=='Low Use']"
   ]
  },
  {
   "cell_type": "code",
   "execution_count": 42,
   "metadata": {},
   "outputs": [
    {
     "data": {
      "text/plain": [
       "F_onewayResult(statistic=245.55207704514808, pvalue=1.544944495017464e-128)"
      ]
     },
     "execution_count": 42,
     "metadata": {},
     "output_type": "execute_result"
    }
   ],
   "source": [
    "st.f_oneway(veryheavy.Price,heavy.Price,medium.Price,low.Price)"
   ]
  },
  {
   "cell_type": "code",
   "execution_count": 43,
   "metadata": {
    "collapsed": true
   },
   "outputs": [],
   "source": [
    "# NULL - THE AVERAGE AGE OF VERY HEAVY, HEAVY, MEDIUM & LOW USE CARS ARE EQUAL"
   ]
  },
  {
   "cell_type": "code",
   "execution_count": 44,
   "metadata": {},
   "outputs": [
    {
     "data": {
      "text/plain": [
       "UsageType\n",
       "Heavy Use         63.065934\n",
       "Low Use           39.205656\n",
       "Medium Use        56.893750\n",
       "Very Heavy Use    65.914601\n",
       "Name: Age, dtype: float64"
      ]
     },
     "execution_count": 44,
     "metadata": {},
     "output_type": "execute_result"
    }
   ],
   "source": [
    "usedcarprices.Age.groupby(usedcarprices.UsageType).mean()"
   ]
  },
  {
   "cell_type": "code",
   "execution_count": 45,
   "metadata": {},
   "outputs": [
    {
     "data": {
      "text/plain": [
       "F_onewayResult(statistic=235.09616681672301, pvalue=5.1664293471180774e-124)"
      ]
     },
     "execution_count": 45,
     "metadata": {},
     "output_type": "execute_result"
    }
   ],
   "source": [
    "st.f_oneway(veryheavy.Age,heavy.Age,medium.Age,low.Age)"
   ]
  },
  {
   "cell_type": "code",
   "execution_count": 46,
   "metadata": {
    "collapsed": true
   },
   "outputs": [],
   "source": [
    "# Chi-Square Test of Independence - Both Variables are Categorical/NON NUMERICAL\n",
    "# THE INPUT OF CHI SQUARE TEST OF INDEPENDENCE IS CROSS TABULATION\n",
    "\n",
    "# NULL - THERE IS NO RELATIONSHIP BETWEEN BOTH THE VARIABLES\n",
    "# ALTERNATE - THERE IS RELATIONSHIP BETWEEN BOTH THE VARIABLES "
   ]
  },
  {
   "cell_type": "code",
   "execution_count": 47,
   "metadata": {},
   "outputs": [
    {
     "data": {
      "text/html": [
       "<div>\n",
       "<style>\n",
       "    .dataframe thead tr:only-child th {\n",
       "        text-align: right;\n",
       "    }\n",
       "\n",
       "    .dataframe thead th {\n",
       "        text-align: left;\n",
       "    }\n",
       "\n",
       "    .dataframe tbody tr th {\n",
       "        vertical-align: top;\n",
       "    }\n",
       "</style>\n",
       "<table border=\"1\" class=\"dataframe\">\n",
       "  <thead>\n",
       "    <tr style=\"text-align: right;\">\n",
       "      <th>UsageType</th>\n",
       "      <th>Heavy Use</th>\n",
       "      <th>Low Use</th>\n",
       "      <th>Medium Use</th>\n",
       "      <th>Very Heavy Use</th>\n",
       "    </tr>\n",
       "    <tr>\n",
       "      <th>FuelType</th>\n",
       "      <th></th>\n",
       "      <th></th>\n",
       "      <th></th>\n",
       "      <th></th>\n",
       "    </tr>\n",
       "  </thead>\n",
       "  <tbody>\n",
       "    <tr>\n",
       "      <th>CNG</th>\n",
       "      <td>3</td>\n",
       "      <td>2</td>\n",
       "      <td>0</td>\n",
       "      <td>12</td>\n",
       "    </tr>\n",
       "    <tr>\n",
       "      <th>Diesel</th>\n",
       "      <td>24</td>\n",
       "      <td>16</td>\n",
       "      <td>13</td>\n",
       "      <td>102</td>\n",
       "    </tr>\n",
       "    <tr>\n",
       "      <th>Petrol</th>\n",
       "      <td>337</td>\n",
       "      <td>371</td>\n",
       "      <td>307</td>\n",
       "      <td>249</td>\n",
       "    </tr>\n",
       "  </tbody>\n",
       "</table>\n",
       "</div>"
      ],
      "text/plain": [
       "UsageType  Heavy Use  Low Use  Medium Use  Very Heavy Use\n",
       "FuelType                                                 \n",
       "CNG                3        2           0              12\n",
       "Diesel            24       16          13             102\n",
       "Petrol           337      371         307             249"
      ]
     },
     "execution_count": 47,
     "metadata": {},
     "output_type": "execute_result"
    }
   ],
   "source": [
    "# NULL -THERE IS NO RELATIONSHIP BETWEEN FUELTYPE & USAGETYPE\n",
    "# ALTERNATE - THERE IS RELATIONSHIP BETWEEN FUELTYPE & USAGE TYPE\n",
    "pd.crosstab(usedcarprices.FuelType,usedcarprices.UsageType)"
   ]
  },
  {
   "cell_type": "code",
   "execution_count": 48,
   "metadata": {},
   "outputs": [
    {
     "data": {
      "text/plain": [
       "(176.73784811816915,\n",
       " 1.6720965297890977e-35,\n",
       " 6,\n",
       " array([[   4.3091922 ,    4.6051532 ,    3.78830084,    4.29735376],\n",
       "        [  39.28969359,   41.98816156,   34.54038997,   39.18175487],\n",
       "        [ 320.40111421,  342.40668524,  281.67130919,  319.52089136]]))"
      ]
     },
     "execution_count": 48,
     "metadata": {},
     "output_type": "execute_result"
    }
   ],
   "source": [
    "st.chi2_contingency(pd.crosstab(usedcarprices.FuelType,usedcarprices.UsageType))"
   ]
  },
  {
   "cell_type": "code",
   "execution_count": 49,
   "metadata": {
    "collapsed": true
   },
   "outputs": [],
   "source": [
    "# There is no relationship between PriceType & UsageType\n",
    "# There is relationship between  PriceType & UsageType"
   ]
  },
  {
   "cell_type": "code",
   "execution_count": 50,
   "metadata": {},
   "outputs": [
    {
     "data": {
      "text/plain": [
       "(561.68372699910572,\n",
       " 3.4779825737582842e-115,\n",
       " 9,\n",
       " array([[  75.79108635,   80.99651811,   66.62952646,   75.58286908],\n",
       "        [  94.29526462,  100.77158774,   82.89693593,   94.0362117 ],\n",
       "        [ 114.06685237,  121.90111421,  100.27855153,  113.75348189],\n",
       "        [  79.84679666,   85.33077994,   70.19498607,   79.62743733]]))"
      ]
     },
     "execution_count": 50,
     "metadata": {},
     "output_type": "execute_result"
    }
   ],
   "source": [
    " st.chi2_contingency(pd.crosstab(usedcarprices.PriceType,usedcarprices.UsageType))"
   ]
  },
  {
   "cell_type": "code",
   "execution_count": 51,
   "metadata": {},
   "outputs": [
    {
     "data": {
      "text/html": [
       "<div>\n",
       "<style>\n",
       "    .dataframe thead tr:only-child th {\n",
       "        text-align: right;\n",
       "    }\n",
       "\n",
       "    .dataframe thead th {\n",
       "        text-align: left;\n",
       "    }\n",
       "\n",
       "    .dataframe tbody tr th {\n",
       "        vertical-align: top;\n",
       "    }\n",
       "</style>\n",
       "<table border=\"1\" class=\"dataframe\">\n",
       "  <thead>\n",
       "    <tr style=\"text-align: right;\">\n",
       "      <th></th>\n",
       "      <th>Unnamed: 0</th>\n",
       "      <th>Price</th>\n",
       "      <th>Age</th>\n",
       "      <th>KM</th>\n",
       "      <th>FuelType</th>\n",
       "      <th>HP</th>\n",
       "      <th>MetColor</th>\n",
       "      <th>Automatic</th>\n",
       "      <th>CC</th>\n",
       "      <th>Doors</th>\n",
       "      <th>Weight</th>\n",
       "      <th>AutoType</th>\n",
       "      <th>MetColorType</th>\n",
       "      <th>PriceType</th>\n",
       "      <th>UsageType</th>\n",
       "      <th>SpeedType</th>\n",
       "    </tr>\n",
       "  </thead>\n",
       "  <tbody>\n",
       "    <tr>\n",
       "      <th>0</th>\n",
       "      <td>1</td>\n",
       "      <td>13500</td>\n",
       "      <td>23</td>\n",
       "      <td>46986</td>\n",
       "      <td>Diesel</td>\n",
       "      <td>90</td>\n",
       "      <td>1</td>\n",
       "      <td>0</td>\n",
       "      <td>2000</td>\n",
       "      <td>3</td>\n",
       "      <td>1165</td>\n",
       "      <td>Manual</td>\n",
       "      <td>Metcolor</td>\n",
       "      <td>Very High Price</td>\n",
       "      <td>Medium Use</td>\n",
       "      <td>Medium Speed</td>\n",
       "    </tr>\n",
       "    <tr>\n",
       "      <th>1</th>\n",
       "      <td>2</td>\n",
       "      <td>13750</td>\n",
       "      <td>23</td>\n",
       "      <td>72937</td>\n",
       "      <td>Diesel</td>\n",
       "      <td>90</td>\n",
       "      <td>1</td>\n",
       "      <td>0</td>\n",
       "      <td>2000</td>\n",
       "      <td>3</td>\n",
       "      <td>1165</td>\n",
       "      <td>Manual</td>\n",
       "      <td>Metcolor</td>\n",
       "      <td>Very High Price</td>\n",
       "      <td>Heavy Use</td>\n",
       "      <td>Medium Speed</td>\n",
       "    </tr>\n",
       "    <tr>\n",
       "      <th>2</th>\n",
       "      <td>3</td>\n",
       "      <td>13950</td>\n",
       "      <td>24</td>\n",
       "      <td>41711</td>\n",
       "      <td>Diesel</td>\n",
       "      <td>90</td>\n",
       "      <td>1</td>\n",
       "      <td>0</td>\n",
       "      <td>2000</td>\n",
       "      <td>3</td>\n",
       "      <td>1165</td>\n",
       "      <td>Manual</td>\n",
       "      <td>Metcolor</td>\n",
       "      <td>Very High Price</td>\n",
       "      <td>Low Use</td>\n",
       "      <td>Medium Speed</td>\n",
       "    </tr>\n",
       "    <tr>\n",
       "      <th>3</th>\n",
       "      <td>4</td>\n",
       "      <td>14950</td>\n",
       "      <td>26</td>\n",
       "      <td>48000</td>\n",
       "      <td>Diesel</td>\n",
       "      <td>90</td>\n",
       "      <td>0</td>\n",
       "      <td>0</td>\n",
       "      <td>2000</td>\n",
       "      <td>3</td>\n",
       "      <td>1165</td>\n",
       "      <td>Manual</td>\n",
       "      <td>NonMetcolor</td>\n",
       "      <td>Very High Price</td>\n",
       "      <td>Medium Use</td>\n",
       "      <td>Medium Speed</td>\n",
       "    </tr>\n",
       "    <tr>\n",
       "      <th>4</th>\n",
       "      <td>5</td>\n",
       "      <td>13750</td>\n",
       "      <td>30</td>\n",
       "      <td>38500</td>\n",
       "      <td>Diesel</td>\n",
       "      <td>90</td>\n",
       "      <td>0</td>\n",
       "      <td>0</td>\n",
       "      <td>2000</td>\n",
       "      <td>3</td>\n",
       "      <td>1170</td>\n",
       "      <td>Manual</td>\n",
       "      <td>NonMetcolor</td>\n",
       "      <td>Very High Price</td>\n",
       "      <td>Low Use</td>\n",
       "      <td>Medium Speed</td>\n",
       "    </tr>\n",
       "  </tbody>\n",
       "</table>\n",
       "</div>"
      ],
      "text/plain": [
       "   Unnamed: 0  Price  Age     KM FuelType  HP  MetColor  Automatic    CC  \\\n",
       "0           1  13500   23  46986   Diesel  90         1          0  2000   \n",
       "1           2  13750   23  72937   Diesel  90         1          0  2000   \n",
       "2           3  13950   24  41711   Diesel  90         1          0  2000   \n",
       "3           4  14950   26  48000   Diesel  90         0          0  2000   \n",
       "4           5  13750   30  38500   Diesel  90         0          0  2000   \n",
       "\n",
       "   Doors  Weight AutoType MetColorType        PriceType   UsageType  \\\n",
       "0      3    1165   Manual     Metcolor  Very High Price  Medium Use   \n",
       "1      3    1165   Manual     Metcolor  Very High Price   Heavy Use   \n",
       "2      3    1165   Manual     Metcolor  Very High Price     Low Use   \n",
       "3      3    1165   Manual  NonMetcolor  Very High Price  Medium Use   \n",
       "4      3    1170   Manual  NonMetcolor  Very High Price     Low Use   \n",
       "\n",
       "      SpeedType  \n",
       "0  Medium Speed  \n",
       "1  Medium Speed  \n",
       "2  Medium Speed  \n",
       "3  Medium Speed  \n",
       "4  Medium Speed  "
      ]
     },
     "execution_count": 51,
     "metadata": {},
     "output_type": "execute_result"
    }
   ],
   "source": [
    "usedcarprices.head()"
   ]
  },
  {
   "cell_type": "code",
   "execution_count": 52,
   "metadata": {},
   "outputs": [
    {
     "data": {
      "text/plain": [
       "Index(['Unnamed: 0', 'Price', 'Age', 'KM', 'FuelType', 'HP', 'MetColor',\n",
       "       'Automatic', 'CC', 'Doors', 'Weight', 'AutoType', 'MetColorType',\n",
       "       'PriceType', 'UsageType', 'SpeedType'],\n",
       "      dtype='object')"
      ]
     },
     "execution_count": 52,
     "metadata": {},
     "output_type": "execute_result"
    }
   ],
   "source": [
    "usedcarprices.columns"
   ]
  },
  {
   "cell_type": "code",
   "execution_count": 53,
   "metadata": {
    "collapsed": true
   },
   "outputs": [],
   "source": [
    "usedcarprices1=usedcarprices.drop('Unnamed: 0',axis=1)\n",
    "\n",
    "# axis=1 is column deletion\n",
    "# axis=0 is row deletion & this is default option"
   ]
  },
  {
   "cell_type": "code",
   "execution_count": 54,
   "metadata": {},
   "outputs": [
    {
     "data": {
      "text/plain": [
       "Index(['Price', 'Age', 'KM', 'FuelType', 'HP', 'MetColor', 'Automatic', 'CC',\n",
       "       'Doors', 'Weight', 'AutoType', 'MetColorType', 'PriceType', 'UsageType',\n",
       "       'SpeedType'],\n",
       "      dtype='object')"
      ]
     },
     "execution_count": 54,
     "metadata": {},
     "output_type": "execute_result"
    }
   ],
   "source": [
    "usedcarprices1.columns"
   ]
  },
  {
   "cell_type": "code",
   "execution_count": 55,
   "metadata": {},
   "outputs": [
    {
     "data": {
      "text/plain": [
       "Price            int64\n",
       "Age              int64\n",
       "KM               int64\n",
       "FuelType        object\n",
       "HP               int64\n",
       "MetColor         int64\n",
       "Automatic        int64\n",
       "CC               int64\n",
       "Doors            int64\n",
       "Weight           int64\n",
       "AutoType        object\n",
       "MetColorType    object\n",
       "PriceType       object\n",
       "UsageType       object\n",
       "SpeedType       object\n",
       "dtype: object"
      ]
     },
     "execution_count": 55,
     "metadata": {},
     "output_type": "execute_result"
    }
   ],
   "source": [
    "usedcarprices1.dtypes"
   ]
  },
  {
   "cell_type": "code",
   "execution_count": 56,
   "metadata": {
    "collapsed": true
   },
   "outputs": [],
   "source": [
    "numericalcols=usedcarprices1.select_dtypes(include=[np.number])\n",
    "objectcols=usedcarprices1.select_dtypes(include=[\"object\"])"
   ]
  },
  {
   "cell_type": "code",
   "execution_count": 57,
   "metadata": {
    "collapsed": true
   },
   "outputs": [],
   "source": [
    "# labelEncoder is function in sklearn preprocessing which converts strings or\n",
    "# objects or categoricals to Dummy Coded Numerical variables"
   ]
  },
  {
   "cell_type": "code",
   "execution_count": 58,
   "metadata": {
    "collapsed": true
   },
   "outputs": [],
   "source": [
    "from sklearn.preprocessing import LabelEncoder"
   ]
  },
  {
   "cell_type": "code",
   "execution_count": 59,
   "metadata": {
    "collapsed": true
   },
   "outputs": [],
   "source": [
    "le=LabelEncoder()"
   ]
  },
  {
   "cell_type": "code",
   "execution_count": 60,
   "metadata": {
    "collapsed": true
   },
   "outputs": [],
   "source": [
    "objectcols1=objectcols.apply(le.fit_transform)"
   ]
  },
  {
   "cell_type": "code",
   "execution_count": 61,
   "metadata": {},
   "outputs": [
    {
     "data": {
      "text/html": [
       "<div>\n",
       "<style>\n",
       "    .dataframe thead tr:only-child th {\n",
       "        text-align: right;\n",
       "    }\n",
       "\n",
       "    .dataframe thead th {\n",
       "        text-align: left;\n",
       "    }\n",
       "\n",
       "    .dataframe tbody tr th {\n",
       "        vertical-align: top;\n",
       "    }\n",
       "</style>\n",
       "<table border=\"1\" class=\"dataframe\">\n",
       "  <thead>\n",
       "    <tr style=\"text-align: right;\">\n",
       "      <th></th>\n",
       "      <th>FuelType</th>\n",
       "      <th>AutoType</th>\n",
       "      <th>MetColorType</th>\n",
       "      <th>PriceType</th>\n",
       "      <th>UsageType</th>\n",
       "      <th>SpeedType</th>\n",
       "    </tr>\n",
       "  </thead>\n",
       "  <tbody>\n",
       "    <tr>\n",
       "      <th>0</th>\n",
       "      <td>1</td>\n",
       "      <td>1</td>\n",
       "      <td>0</td>\n",
       "      <td>3</td>\n",
       "      <td>2</td>\n",
       "      <td>2</td>\n",
       "    </tr>\n",
       "    <tr>\n",
       "      <th>1</th>\n",
       "      <td>1</td>\n",
       "      <td>1</td>\n",
       "      <td>0</td>\n",
       "      <td>3</td>\n",
       "      <td>0</td>\n",
       "      <td>2</td>\n",
       "    </tr>\n",
       "    <tr>\n",
       "      <th>2</th>\n",
       "      <td>1</td>\n",
       "      <td>1</td>\n",
       "      <td>0</td>\n",
       "      <td>3</td>\n",
       "      <td>1</td>\n",
       "      <td>2</td>\n",
       "    </tr>\n",
       "    <tr>\n",
       "      <th>3</th>\n",
       "      <td>1</td>\n",
       "      <td>1</td>\n",
       "      <td>1</td>\n",
       "      <td>3</td>\n",
       "      <td>2</td>\n",
       "      <td>2</td>\n",
       "    </tr>\n",
       "    <tr>\n",
       "      <th>4</th>\n",
       "      <td>1</td>\n",
       "      <td>1</td>\n",
       "      <td>1</td>\n",
       "      <td>3</td>\n",
       "      <td>1</td>\n",
       "      <td>2</td>\n",
       "    </tr>\n",
       "  </tbody>\n",
       "</table>\n",
       "</div>"
      ],
      "text/plain": [
       "   FuelType  AutoType  MetColorType  PriceType  UsageType  SpeedType\n",
       "0         1         1             0          3          2          2\n",
       "1         1         1             0          3          0          2\n",
       "2         1         1             0          3          1          2\n",
       "3         1         1             1          3          2          2\n",
       "4         1         1             1          3          1          2"
      ]
     },
     "execution_count": 61,
     "metadata": {},
     "output_type": "execute_result"
    }
   ],
   "source": [
    "objectcols1.head()"
   ]
  },
  {
   "cell_type": "code",
   "execution_count": 62,
   "metadata": {
    "collapsed": true
   },
   "outputs": [],
   "source": [
    "usedcarpricesdf=pd.concat([numericalcols,objectcols1],axis=1)\n",
    "\n",
    "# Combining side by side joining of both dataframes\n",
    "# axis=1 column merge\n",
    "# axis =0 Row merge"
   ]
  },
  {
   "cell_type": "code",
   "execution_count": 63,
   "metadata": {
    "collapsed": true
   },
   "outputs": [],
   "source": [
    "y=usedcarpricesdf.Price\n",
    "X=usedcarpricesdf.drop('Price',axis=1)"
   ]
  },
  {
   "cell_type": "code",
   "execution_count": 64,
   "metadata": {
    "collapsed": true
   },
   "outputs": [],
   "source": [
    "from sklearn.linear_model import LinearRegression"
   ]
  },
  {
   "cell_type": "code",
   "execution_count": 65,
   "metadata": {
    "collapsed": true
   },
   "outputs": [],
   "source": [
    "LinReg=LinearRegression()"
   ]
  },
  {
   "cell_type": "code",
   "execution_count": 66,
   "metadata": {
    "collapsed": true
   },
   "outputs": [],
   "source": [
    "LinRegmodel=LinReg.fit(X,y)"
   ]
  },
  {
   "cell_type": "code",
   "execution_count": 67,
   "metadata": {},
   "outputs": [
    {
     "data": {
      "text/plain": [
       "0.87365580835588053"
      ]
     },
     "execution_count": 67,
     "metadata": {},
     "output_type": "execute_result"
    }
   ],
   "source": [
    "LinRegmodel.score(X,y) # R Square of Linear Regression Model\n",
    "# 87.36% variance in dependent variable Price is explained by the independent \n",
    "# variables in the model"
   ]
  },
  {
   "cell_type": "code",
   "execution_count": 68,
   "metadata": {},
   "outputs": [
    {
     "data": {
      "text/plain": [
       "-5387.2321579629242"
      ]
     },
     "execution_count": 68,
     "metadata": {},
     "output_type": "execute_result"
    }
   ],
   "source": [
    "LinRegmodel.intercept_"
   ]
  },
  {
   "cell_type": "code",
   "execution_count": 69,
   "metadata": {},
   "outputs": [
    {
     "name": "stdout",
     "output_type": "stream",
     "text": [
      "[('Age', -119.82078729878941), ('KM', -0.014923171381640808), ('HP', 25.058244977656258), ('MetColor', -8.3040871801100202), ('Automatic', 116.37982634753112), ('CC', -1.5683120308705014), ('Doors', -57.869960127047989), ('Weight', 21.756558256546953), ('FuelType', 208.78460309424187), ('AutoType', -116.37982634753109), ('MetColorType', 8.3040871801095264), ('PriceType', 328.67638271154505), ('UsageType', -23.423258710099773), ('SpeedType', -175.12896521596204)]\n"
     ]
    }
   ],
   "source": [
    "print(list(zip(X,LinRegmodel.coef_)))"
   ]
  },
  {
   "cell_type": "code",
   "execution_count": 70,
   "metadata": {
    "collapsed": true
   },
   "outputs": [],
   "source": [
    "LinRegpredict=LinRegmodel.predict(X)"
   ]
  },
  {
   "cell_type": "code",
   "execution_count": 71,
   "metadata": {},
   "outputs": [
    {
     "data": {
      "text/plain": [
       "array([ 16120.13346822,  15779.70876512,  16102.45566867, ...,\n",
       "         8645.35344607,   8421.38199344,  10315.68347049])"
      ]
     },
     "execution_count": 71,
     "metadata": {},
     "output_type": "execute_result"
    }
   ],
   "source": [
    "LinRegpredict \n",
    "# these values calculated based on Regression Equation using \n",
    "# intercept and coeffcients\n",
    "# Price=-5387.232-119.82*Age-0.01492*KM+25.058*HP-8.30*MetColor+116.379*Automatic\n",
    "# -1.568*CC-57.86*Doors+21.76*Weight+208.78*FuelType-116.379*AutoType ....."
   ]
  },
  {
   "cell_type": "code",
   "execution_count": 72,
   "metadata": {
    "collapsed": true
   },
   "outputs": [],
   "source": [
    "priceresidual=y-LinRegpredict # y=ActualPrice LinRegpredict=Predicted Price"
   ]
  },
  {
   "cell_type": "code",
   "execution_count": 73,
   "metadata": {},
   "outputs": [
    {
     "data": {
      "text/plain": [
       "1288.7529907002508"
      ]
     },
     "execution_count": 73,
     "metadata": {},
     "output_type": "execute_result"
    }
   ],
   "source": [
    "np.sqrt(np.mean(priceresidual**2)) # Root Mean Square Error"
   ]
  },
  {
   "cell_type": "code",
   "execution_count": 74,
   "metadata": {
    "collapsed": true
   },
   "outputs": [],
   "source": [
    "from sklearn.tree import DecisionTreeRegressor"
   ]
  },
  {
   "cell_type": "code",
   "execution_count": 75,
   "metadata": {
    "collapsed": true
   },
   "outputs": [],
   "source": [
    "DecTree=DecisionTreeRegressor()"
   ]
  },
  {
   "cell_type": "code",
   "execution_count": 76,
   "metadata": {
    "collapsed": true
   },
   "outputs": [],
   "source": [
    "DecTreemodel=DecTree.fit(X,y)"
   ]
  },
  {
   "cell_type": "code",
   "execution_count": 77,
   "metadata": {},
   "outputs": [
    {
     "data": {
      "text/plain": [
       "0.99999894052316707"
      ]
     },
     "execution_count": 77,
     "metadata": {},
     "output_type": "execute_result"
    }
   ],
   "source": [
    "DecTreemodel.score(X,y) # R Squared or Coefficient of determination\n",
    "\n",
    "# 99.99% variance in dependent variable Price is explained by the independent \n",
    "# variables in the model"
   ]
  },
  {
   "cell_type": "code",
   "execution_count": 78,
   "metadata": {
    "collapsed": true
   },
   "outputs": [],
   "source": [
    "DecTreepredict=DecTreemodel.predict(X)"
   ]
  },
  {
   "cell_type": "code",
   "execution_count": 79,
   "metadata": {
    "collapsed": true
   },
   "outputs": [],
   "source": [
    "DecTreeresidual=y-DecTreepredict"
   ]
  },
  {
   "cell_type": "code",
   "execution_count": 80,
   "metadata": {},
   "outputs": [
    {
     "data": {
      "text/plain": [
       "3.7319668543103792"
      ]
     },
     "execution_count": 80,
     "metadata": {},
     "output_type": "execute_result"
    }
   ],
   "source": [
    "np.sqrt(np.mean(DecTreeresidual**2)) # Root Mean Square Error"
   ]
  },
  {
   "cell_type": "code",
   "execution_count": 83,
   "metadata": {},
   "outputs": [
    {
     "name": "stdout",
     "output_type": "stream",
     "text": [
      "[('Age', 0.79111567701929397), ('KM', 0.028710653253263062), ('HP', 0.0020661914138236956), ('MetColor', 0.00087701952980229929), ('Automatic', 0.00019867775351345689), ('CC', 0.0016904061232275302), ('Doors', 0.0028350145859925295), ('Weight', 0.058835746459614036), ('FuelType', 0.0022255829478144539), ('AutoType', 9.8484810749316574e-05), ('MetColorType', 0.00070516130548104762), ('PriceType', 0.10946892950302824), ('UsageType', 0.00086163233217394794), ('SpeedType', 0.00031082296222211973)]\n"
     ]
    }
   ],
   "source": [
    "print(list(zip(X,DecTreemodel.feature_importances_)))"
   ]
  },
  {
   "cell_type": "code",
   "execution_count": 127,
   "metadata": {
    "collapsed": true
   },
   "outputs": [],
   "source": [
    "from sklearn.tree import export_graphviz"
   ]
  },
  {
   "cell_type": "code",
   "execution_count": 130,
   "metadata": {
    "collapsed": true
   },
   "outputs": [],
   "source": [
    "export_graphviz(DecTreemodel,out_file='tree.dot',feature_names = X.columns)  "
   ]
  },
  {
   "cell_type": "code",
   "execution_count": 84,
   "metadata": {
    "collapsed": true
   },
   "outputs": [],
   "source": [
    "from sklearn.ensemble import RandomForestRegressor"
   ]
  },
  {
   "cell_type": "code",
   "execution_count": 85,
   "metadata": {
    "collapsed": true
   },
   "outputs": [],
   "source": [
    "RF=RandomForestRegressor(n_estimators=1000) # n_estimators=num of trees = 1000"
   ]
  },
  {
   "cell_type": "code",
   "execution_count": 86,
   "metadata": {
    "collapsed": true
   },
   "outputs": [],
   "source": [
    "RFmodel=RF.fit(X,y)"
   ]
  },
  {
   "cell_type": "code",
   "execution_count": 87,
   "metadata": {},
   "outputs": [
    {
     "data": {
      "text/plain": [
       "0.99414037411597789"
      ]
     },
     "execution_count": 87,
     "metadata": {},
     "output_type": "execute_result"
    }
   ],
   "source": [
    "RFmodel.score(X,y)"
   ]
  },
  {
   "cell_type": "code",
   "execution_count": 88,
   "metadata": {
    "collapsed": true
   },
   "outputs": [],
   "source": [
    "RFpredict=RFmodel.predict(X)"
   ]
  },
  {
   "cell_type": "code",
   "execution_count": 89,
   "metadata": {
    "collapsed": true
   },
   "outputs": [],
   "source": [
    "RFresidual=y-RFpredict"
   ]
  },
  {
   "cell_type": "code",
   "execution_count": 90,
   "metadata": {},
   "outputs": [
    {
     "data": {
      "text/plain": [
       "277.54089851452051"
      ]
     },
     "execution_count": 90,
     "metadata": {},
     "output_type": "execute_result"
    }
   ],
   "source": [
    "np.sqrt(np.mean(RFresidual**2))"
   ]
  },
  {
   "cell_type": "code",
   "execution_count": 91,
   "metadata": {
    "collapsed": true
   },
   "outputs": [],
   "source": [
    "from sklearn.ensemble import GradientBoostingRegressor"
   ]
  },
  {
   "cell_type": "code",
   "execution_count": 92,
   "metadata": {
    "collapsed": true
   },
   "outputs": [],
   "source": [
    "GB=GradientBoostingRegressor(n_estimators=1000)"
   ]
  },
  {
   "cell_type": "code",
   "execution_count": 93,
   "metadata": {
    "collapsed": true
   },
   "outputs": [],
   "source": [
    "GBmodel=GB.fit(X,y)"
   ]
  },
  {
   "cell_type": "code",
   "execution_count": 94,
   "metadata": {},
   "outputs": [
    {
     "data": {
      "text/plain": [
       "0.9945225335632637"
      ]
     },
     "execution_count": 94,
     "metadata": {},
     "output_type": "execute_result"
    }
   ],
   "source": [
    "GBmodel.score(X,y)"
   ]
  },
  {
   "cell_type": "code",
   "execution_count": 95,
   "metadata": {
    "collapsed": true
   },
   "outputs": [],
   "source": [
    "GBpredict=GBmodel.predict(X)"
   ]
  },
  {
   "cell_type": "code",
   "execution_count": 96,
   "metadata": {
    "collapsed": true
   },
   "outputs": [],
   "source": [
    "GBresidual=y-GBpredict"
   ]
  },
  {
   "cell_type": "code",
   "execution_count": 97,
   "metadata": {},
   "outputs": [
    {
     "data": {
      "text/plain": [
       "268.33783291556654"
      ]
     },
     "execution_count": 97,
     "metadata": {},
     "output_type": "execute_result"
    }
   ],
   "source": [
    "np.sqrt(np.mean(GBresidual**2))"
   ]
  },
  {
   "cell_type": "code",
   "execution_count": null,
   "metadata": {
    "collapsed": true
   },
   "outputs": [],
   "source": []
  }
 ],
 "metadata": {
  "kernelspec": {
   "display_name": "Python 3",
   "language": "python",
   "name": "python3"
  },
  "language_info": {
   "codemirror_mode": {
    "name": "ipython",
    "version": 3
   },
   "file_extension": ".py",
   "mimetype": "text/x-python",
   "name": "python",
   "nbconvert_exporter": "python",
   "pygments_lexer": "ipython3",
   "version": "3.6.6"
  }
 },
 "nbformat": 4,
 "nbformat_minor": 2
}
